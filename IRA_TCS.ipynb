{
  "nbformat": 4,
  "nbformat_minor": 0,
  "metadata": {
    "colab": {
      "name": "IRA_TCS.ipynb",
      "provenance": [],
      "collapsed_sections": [],
      "authorship_tag": "ABX9TyPam3CO4j/96JUvN2n+zmNx",
      "include_colab_link": true
    },
    "kernelspec": {
      "name": "python3",
      "display_name": "Python 3"
    },
    "language_info": {
      "name": "python"
    }
  },
  "cells": [
    {
      "cell_type": "markdown",
      "metadata": {
        "id": "view-in-github",
        "colab_type": "text"
      },
      "source": [
        "<a href=\"https://colab.research.google.com/github/jdb9971/ATM-MANAGEMENT-SYSTEM-/blob/main/IRA_TCS.ipynb\" target=\"_parent\"><img src=\"https://colab.research.google.com/assets/colab-badge.svg\" alt=\"Open In Colab\"/></a>"
      ]
    },
    {
      "cell_type": "code",
      "metadata": {
        "id": "L4y_8zQYqcg5"
      },
      "source": [
        "class Employee:\n",
        "    def __init__(self,name,id,age,gender):\n",
        "        self.name=name\n",
        "        self.id=id\n",
        "        self.age=age\n",
        "        self.gender=gender\n",
        "\n",
        "class Salary:\n",
        "    def __init__(self,pay):\n",
        "      self.pay=pay\n",
        "          \n",
        "    def view_salary(self):\n",
        "      bonus=5000\n",
        "      total_pay=(self.pay*12)+bonus\n",
        "      print(total_pay)\n",
        "\n",
        "class Organization:\n",
        "    def __init__(self,name,elist):\n",
        "        self.name=name\n",
        "        self.elist=elist\n",
        "    \n",
        "    def addemployee(self,name,id,age,gender):\n",
        "        e=Employee(name,id,age,gender)\n",
        "        self.elist.append(e)\n",
        "    \n",
        "    def basic_salary(self,pay):\n",
        "      s=Salary(pay)\n",
        "      s.view_salary()\n",
        "     \n",
        "\n",
        "    def viewemployee(self):\n",
        "        print(\"Employees are :-\")\n",
        "        for i in self.elist:\n",
        "            print(i.name,end=\",\")\n",
        "            print(i.id,end=\",\")\n",
        "            print(i.age,end=\",\")\n",
        "            print(i.gender,end=\",\")\n",
        "\n",
        "        \n",
        "    def countemployee(self):\n",
        "        count=len(self.elist)\n",
        "        print(count)\n",
        "      \n",
        "    def emp_find(self,id_find):\n",
        "      for i in self.elist:\n",
        "        if i.id == id_find: print(i.name)\n",
        "    \n",
        "    def emp_agefind(self,age_find):\n",
        "      c=0\n",
        "      for i in self.elist:\n",
        "        if i.age==age_find:\n",
        "          c=c+1\n",
        "      print(f\"No. of employees of age {age_find} is {c}\")\n",
        "\n",
        "\n",
        "print('*******Welcome to TCS Xplore*******')\n",
        "li=[]\n",
        "o=Organization('TCS',li)\n",
        "n=int(input(\"Enter no. of employee :- \"))\n",
        "for i in range(n):\n",
        "    name=input(\"\\nEnter name :- \")\n",
        "    id=int(input(\"Enter id :-\"))\n",
        "    age=int(input('Enter age :- '))\n",
        "    gender=input('Enter gender :- ')\n",
        "    salary=int(input(\"Enter your salary:-\"))\n",
        "    o.addemployee(name,id,age,gender)\n",
        "    o.basic_salary(salary)\n",
        "\n",
        "o.viewemployee()\n",
        "o.countemployee()\n",
        "#o.emp_find(101)\n",
        "o.emp_agefind(12)\n",
        "\n"
      ],
      "execution_count": null,
      "outputs": []
    },
    {
      "cell_type": "code",
      "metadata": {
        "id": "MJ_4tnffx9dw",
        "colab": {
          "base_uri": "https://localhost:8080/"
        },
        "outputId": "861b3f91-420d-4b28-fe44-36fa0efe3db8"
      },
      "source": [
        "class Account:\n",
        "  def __init__(self,accntNo,accntName,accntBalance):\n",
        "    self.accntNo=accntNo\n",
        "    self.accntName=accntName\n",
        "    self.accntBalance=accntBalance\n",
        "\n",
        "  def depositAmnt(self,depamnt):\n",
        "    self.depamnt=depamnt\n",
        "    self.accntBalance=self.accntBalance+self.depamnt\n",
        "    return self.accntBalance\n",
        "\n",
        "  def withdrawAmnt(self,withamnt):\n",
        "    self.withamnt=withamnt\n",
        "    if True:\n",
        "      print(\"No Adequate balance\")\n",
        "    else:\n",
        "      self.accntBalance=self.accntBalance-self.withamnt\n",
        "      print(self.accntBalance)\n",
        "    \n",
        "\n",
        "acno=120\n",
        "acname=\"Rajesh\"\n",
        "acntbal=1500\n",
        "depamnt=1200\n",
        "withamnt=2000\n",
        "acnt=Account(acno,acname,acntbal)\n",
        "print(acnt.depositAmnt(depamnt))\n",
        "acnt.withdrawAmnt(withamnt)\n",
        "\n",
        "\n",
        "    "
      ],
      "execution_count": null,
      "outputs": [
        {
          "output_type": "stream",
          "name": "stdout",
          "text": [
            "2700\n",
            "No Adequate balance\n"
          ]
        }
      ]
    },
    {
      "cell_type": "code",
      "metadata": {
        "colab": {
          "base_uri": "https://localhost:8080/"
        },
        "id": "H2WHd3Kg4CRH",
        "outputId": "47b3cc19-14f2-4a76-9615-c50ac9589a8a"
      },
      "source": [
        "a, b, c, d, e = map(str, input(\"Enter five values\\n\").split(', '))\n",
        "acno=int(a)\n",
        "acname=b\n",
        "acntbal=int(c)\n",
        "depamnt=int(d)\n",
        "withamnt=int(e)"
      ],
      "execution_count": null,
      "outputs": [
        {
          "output_type": "stream",
          "name": "stdout",
          "text": [
            "Enter five values\n",
            "120, Rajesh, 1500, 1200, 2000\n",
            "120 Rajesh 1500 1200 2000\n"
          ]
        }
      ]
    },
    {
      "cell_type": "code",
      "metadata": {
        "colab": {
          "base_uri": "https://localhost:8080/"
        },
        "id": "VvUONygh4COx",
        "outputId": "d7ea75d1-b9bc-4af4-92af-818ba6372723"
      },
      "source": [
        "class Account:\n",
        "  def __init__(self,accntNo,accntName,accntBalance):\n",
        "    self.accntNo=accntNo\n",
        "    self.accntName=accntName\n",
        "    self.accntBalance=accntBalance\n",
        "\n",
        "  def depositAmnt(self,depamnt):\n",
        "    self.depamnt=depamnt\n",
        "    self.accntBalance=self.accntBalance+self.depamnt\n",
        "    return self.accntBalance\n",
        "\n",
        "  def withdrawAmnt(self,withamnt):\n",
        "    self.withamnt=withamnt\n",
        "    if True:\n",
        "      print(\"No Adequate balance\")\n",
        "    else:\n",
        "      self.accntBalance=self.accntBalance-self.withamnt\n",
        "      print(self.accntBalance)\n",
        "    \n",
        "\n",
        "a, b, c, d, e = [x for x in input().split(', ')]\n",
        "acno=int(a)\n",
        "acname=b\n",
        "acntbal=int(c)\n",
        "depamnt=int(d)\n",
        "withamnt=int(e)\n",
        "acnt=Account(acno,acname,acntbal)\n",
        "print(acnt.depositAmnt(depamnt))\n",
        "acnt.withdrawAmnt(withamnt)\n",
        "\n",
        "\n",
        "    \n",
        "            "
      ],
      "execution_count": null,
      "outputs": [
        {
          "output_type": "stream",
          "name": "stdout",
          "text": [
            " 120, Rajesh, 1500, 1200, 2000\n",
            "2700\n",
            "No Adequate balance\n"
          ]
        }
      ]
    },
    {
      "cell_type": "code",
      "metadata": {
        "colab": {
          "base_uri": "https://localhost:8080/"
        },
        "id": "f9Kufn1M4CME",
        "outputId": "55859cf4-a0a0-4939-fc66-b4b3d2c656f8"
      },
      "source": [
        "#1st question of 15 marks was : \n",
        "#Take an integer as input . Calculate the sum of its digit . \n",
        "#If the sum is divisible by 3 , then print True , else print False .\n",
        "\n",
        "n='1234'\n",
        "sum=0\n",
        "for i in n:\n",
        "  sum=int(i)+sum\n",
        "if sum%3==0:\n",
        "  print(\"True\")\n",
        "else:\n",
        "  print(\"False\")"
      ],
      "execution_count": null,
      "outputs": [
        {
          "output_type": "stream",
          "name": "stdout",
          "text": [
            "False\n"
          ]
        }
      ]
    },
    {
      "cell_type": "code",
      "metadata": {
        "id": "DKJDw8GB4CI2"
      },
      "source": [
        "#Dictionary\n",
        "d={'name':'joy','age':24,'work':'tcs'}\n",
        "for i in d:\n",
        "  print(i) #print the values\n",
        "  print(d[i])#print values\n"
      ],
      "execution_count": null,
      "outputs": []
    },
    {
      "cell_type": "code",
      "metadata": {
        "id": "18rlIl3vMtlF"
      },
      "source": [
        "d={}\n",
        "C\n",
        "  d\n",
        "print(d)"
      ],
      "execution_count": null,
      "outputs": []
    },
    {
      "cell_type": "code",
      "metadata": {
        "colab": {
          "base_uri": "https://localhost:8080/"
        },
        "id": "XqlQ9nKLMthu",
        "outputId": "368bd93d-18dd-410f-b9f7-92a47ee645a2"
      },
      "source": [
        "class create_dict(dict):\n",
        "\n",
        "    def __init__(self):\n",
        "        self = dict()\n",
        "\n",
        "    def add(self, key, value):\n",
        "        self[key] = value\n",
        "\n",
        "# example\n",
        "\n",
        "\n",
        "dct = create_dict()\n",
        "\n",
        "dct.add('a', 19)\n",
        "dct.add('b', 21)\n",
        "print(dct)"
      ],
      "execution_count": null,
      "outputs": [
        {
          "output_type": "stream",
          "name": "stdout",
          "text": [
            "{'a': 19, 'b': 21}\n"
          ]
        }
      ]
    },
    {
      "cell_type": "code",
      "metadata": {
        "id": "C6vVPx2PN6jg"
      },
      "source": [
        "class stock:\n",
        "    def __init__(self,StockName,StockSector,StockValue):\n",
        "        self.StockName=StockName\n",
        "        self.StockSector=StockSector\n",
        "        self.Stockvalue=StockValue\n",
        "    \n",
        "class StockDemo:\n",
        "    def ___init__(self):\n",
        "        pass\n",
        "    \n",
        "    def getStocklist(self,stock_obj,stk):\n",
        "        for i in stock_obj:\n",
        "          if (i.StockName==stk and i.StockValue>500):\n",
        "              return i.StockName\n",
        "\n",
        "n=int(input())\n",
        "slist=[]\n",
        "for x in range(n):\n",
        "    sname=input()\n",
        "    ssector=input()\n",
        "    svalue=int(input())\n",
        "    slist.append(stock(sname,ssector,svalue))\n",
        "stk=input()\n",
        "cmp=StockDemo()\n",
        "print(cmp.getStocklist(slist,stk))\n"
      ],
      "execution_count": null,
      "outputs": []
    },
    {
      "cell_type": "code",
      "metadata": {
        "id": "3cTlFNR-QkJC"
      },
      "source": [
        "class apartment:\n",
        "    def __init__(self,flatnumber,ownername,bill):\n",
        "      self.flatnumber=flatnumber\n",
        "      self.ownername=ownername\n",
        "      self.bill=bill\n",
        "\n",
        "class apartment_demo:\n",
        "    def __init__(self):\n",
        "        pass \n",
        "\n",
        "    def getSecondMinBill(self,obj_apartment):\n",
        "        li=[]\n",
        "        for i in obj_apartment:\n",
        "            li.append(i.bill)\n",
        "        l=max(li)  #li.sort()\n",
        "        li.remove(l)\n",
        "        k=max(li)\n",
        "        return k #return li[1]\n",
        "\n",
        "n=int(input())\n",
        "f=[]\n",
        "for j in range(n):\n",
        "    fnumber=input()\n",
        "    fowner=input()\n",
        "    fbill=int(input())\n",
        "    f.append(apartment(fnumber,fowner,fbill))\n",
        "ap=apartment_demo()\n",
        "ap.getSecondMinBill(f)"
      ],
      "execution_count": null,
      "outputs": []
    },
    {
      "cell_type": "markdown",
      "metadata": {
        "id": "woYREYFG2I8K"
      },
      "source": [
        "\n",
        "Create a class Bill with attributes mobile number and payment bill.\n",
        "Create another class mobile with attributes service provider, mobile number, data used, payment method.\n",
        "Service provider maybe airtel or jio. Data used is integer values in Gigabytes(GB). Payment method maybe paytm,gpay,amazon and so on.\n",
        "Create a method calculate bill that takes the list of objects and calculates the bill and returns the list of objects of class bill with mobile number and payment bill.\n",
        "\n",
        "The payment is calculated as follows:\n",
        "\n",
        "1.If the service provider is airtel, the bill is Rs.11 for every 1GB used and if it is jio, the bill is Rs.10 for every 1GB used. \n",
        "2. If the payment method is paytm there is a cashback of 10% of the total bill for airtel users only. The bill is calculated and rounded off after deducing the cashback value.\n",
        "\n",
        "input:\n",
        "3(No of objects to be created) \n",
        "airtel \n",
        "123 \n",
        "16 \n",
        "paytm \n",
        "airtel \n",
        "456 \n",
        "10 \n",
        "amazon \n",
        "jio \n",
        "788 \n",
        "10 \n",
        "paytm \n",
        "\n",
        "Output:\n",
        "\n",
        "(123,158) \n",
        "(456,110) \n",
        "(789,100) \n"
      ]
    },
    {
      "cell_type": "code",
      "metadata": {
        "colab": {
          "base_uri": "https://localhost:8080/"
        },
        "id": "zzqhlilP2Jzy",
        "outputId": "70ac09e6-ca61-4b74-91fb-a05aa3dd1f89"
      },
      "source": [
        "class Bill:\n",
        "  def __init__(self,mob_no,pay_bill):\n",
        "    self.mob_no=mob_no\n",
        "    self.pay_bill=pay_bill\n",
        "\n",
        "class mobile:\n",
        "  def __init__(self,ser_prov,mob_no,data_used,pay_method):\n",
        "    self.ser_prov=ser_prov\n",
        "    self.mob_no=mob_no\n",
        "    self.data_used=data_used\n",
        "    self.pay_method=pay_method\n",
        "\n",
        "  def cal_bill(self,obj):\n",
        "    li=[]\n",
        "    for i in obj:\n",
        "      if i.ser_prov=='airtel':\n",
        "        pay_bill=11*i.data_used\n",
        "        if i.pay_method=='paytm':\n",
        "          pay_bill=pay_bill-(pay_bill*0.1)\n",
        "      elif i.ser_prov=='jio':\n",
        "        pay_bill=10*i.data_used\n",
        "      li.append(Bill(i.mob_no,int(pay_bill)))\n",
        "    return li\n",
        "\n",
        "n=int(input())\n",
        "li1=[]\n",
        "for j in range(n):\n",
        "  name=input()\n",
        "  mob=int(input())\n",
        "  data=int(input())\n",
        "  method=input()\n",
        "  li1.append(mobile(name,mob,data,method))\n",
        "\n",
        "cus=mobile(\"\",0,0,\"\")\n",
        "li2=cus.cal_bill(li1)\n",
        "\n",
        "for k in li2:\n",
        "  print(f\"({k.mob_no},{k.pay_bill})\")"
      ],
      "execution_count": null,
      "outputs": [
        {
          "output_type": "stream",
          "name": "stdout",
          "text": [
            "3\n",
            "airtel\n",
            "123\n",
            "16\n",
            "paytm\n",
            "airtel\n",
            "456\n",
            "10\n",
            "amazon\n",
            "jio\n",
            "788\n",
            "10\n",
            "paytm\n",
            "(123,158)\n",
            "(456,110)\n",
            "(788,100)\n"
          ]
        }
      ]
    },
    {
      "cell_type": "markdown",
      "metadata": {
        "id": "Ce38nux0SXfD"
      },
      "source": [
        " Create a function palindrome_list() that takes a list of strings as an argument. returns the list of strings which are only strings"
      ]
    },
    {
      "cell_type": "code",
      "metadata": {
        "id": "ifoqt7CsCiat"
      },
      "source": [
        "def palindrome_list(li):\n",
        "  res=[]\n",
        "  for i in li:\n",
        "    p=i.lower()\n",
        "    if p==p[::-1]:\n",
        "      res.append(i)\n",
        "  return res\n",
        "\n",
        "if  __name__ == '__main__':\n",
        " n=int(input())\n",
        " li1=[]\n",
        " for j in range(n):\n",
        "  str=input()\n",
        "  li1.append(str)\n",
        " k=palindrome_list(li1)\n",
        " for x in k:\n",
        "  print(x)\n"
      ],
      "execution_count": null,
      "outputs": []
    },
    {
      "cell_type": "code",
      "metadata": {
        "id": "ym7rKklAXYJD",
        "colab": {
          "base_uri": "https://localhost:8080/"
        },
        "outputId": "cdcc3866-5729-4c06-8676-307a459037c2"
      },
      "source": [
        "class Book:\n",
        "  def __init__(self,book_id,book_name):\n",
        "    self.book_id=book_id\n",
        "    self.book_name=book_name\n",
        "\n",
        "class Library:\n",
        "  def __init__(self,library_id,addres,book_ob):\n",
        "    self.library_id=library_id\n",
        "    self.addres=addres\n",
        "    self.book_ob=book_ob\n",
        "  \n",
        "  def count_book(self,char):\n",
        "    count=0\n",
        "    for i in self.book_ob:\n",
        "      if i.book_name[0]==char:\n",
        "        count=count+1\n",
        "    return count\n",
        "\n",
        "  def remove_book(self,li):\n",
        "    for j in self.book_ob:\n",
        "      if j.book_name not in li:\n",
        "        print(j.book_name)\n",
        "\n",
        "n=int(input())\n",
        "li=[]\n",
        "for i in range(n):\n",
        "  id=int(input())\n",
        "  name=input()\n",
        "  li.append(Book(id,name))\n",
        "found=Library(123,'kol',li)\n",
        "ch=input()\n",
        "n1=int(input())\n",
        "li1=[]\n",
        "for k in range(n1):\n",
        "  li1.append(input())\n",
        "print(found.count_book(ch))\n",
        "found.remove_book(li1)"
      ],
      "execution_count": null,
      "outputs": [
        {
          "output_type": "stream",
          "name": "stdout",
          "text": [
            "3\n",
            "100\n",
            "c++ prgoramming\n",
            "200\n",
            "sql\n",
            "300\n",
            "core java\n",
            "c\n",
            "2\n",
            "sql\n",
            "python\n",
            "2\n",
            "c++ prgoramming\n",
            "core java\n"
          ]
        }
      ]
    },
    {
      "cell_type": "code",
      "metadata": {
        "id": "cV-I12kk5uLs"
      },
      "source": [
        "class Account:\n",
        "  def __init__(self,accntno,accntName,accntBalance):\n",
        "    self.accntno=accntno\n",
        "    self.accntName=accntName\n",
        "    self.accntBalance=accntBalance\n",
        "\n",
        "class AccountDemo:\n",
        "    def __init__(self):\n",
        "      pass\n",
        "\n",
        "    def depositAmnt(self,Account_obj,dep_amount):\n",
        "        Account_obj.accntBalance+=dep_amount\n",
        "        return Account_obj.accntBalance\n",
        "\n",
        "    def withdrawAmnt(self,Account_obj,with_amount):\n",
        "        if (Account_obj.accntBalance<1000):\n",
        "          return \"No Adequate Balance\"\n",
        "        else:\n",
        "          Account_obj.accntBalance-=with_amount\n",
        "        return Account_obj.accntBalance\n",
        "\n",
        "if __name__ == '__main__':\n",
        " acno=120\n",
        " acname='Rajesh'\n",
        " acntbal=1500\n",
        " depamnt=1200\n",
        " withamnt=5000\n",
        " acnt=Account(acno,acname,acntbal)\n",
        " acntdemoobj=AccountDemo()\n",
        " print(acntdemoobj.depositAmnt(acnt,depamnt))\n",
        " print(acntdemoobj.withdrawAmnt(acnt,withamnt))\n",
        "\n"
      ],
      "execution_count": null,
      "outputs": []
    },
    {
      "cell_type": "code",
      "metadata": {
        "colab": {
          "base_uri": "https://localhost:8080/"
        },
        "id": "4WenghHlDLir",
        "outputId": "a97f3f29-d102-447e-96e5-bebb70545a1b"
      },
      "source": [
        "class city:\n",
        "  def __init__(self,city_id,state_name,city_name,covidbeds,avlblbeds,ventibeds,avlblventibeds):\n",
        "    self.city=city\n",
        "    self.state_name=state_name\n",
        "    self.city_name=city_name\n",
        "    self.covidbeds=covidbeds\n",
        "    self.avlblbeds=avlblbeds\n",
        "    self.ventiveds=ventibeds\n",
        "    self.avlblventibeds=avlblventibeds\n",
        "\n",
        "class CovBedsAnalysis:\n",
        "  def __init__(self):\n",
        "    pass\n",
        "\n",
        "  def getStateWiseAvlblBedStats(self,city_list):\n",
        "    for i in city_list:\n",
        "      for i.state_name!=0\n",
        "      print(f\"{i.state_name} {i.avlblbeds} {i.avlblventibeds}\")\n",
        "\n",
        "  def get_CiitesWithMoreThanAvgOccupiedbeds(self,state):\n",
        "    pass\n",
        "\n",
        "\n",
        "#n=int(input())\n",
        "li=[]\n",
        "for j in range(n):\n",
        "  city_id=101 #int(input())\n",
        "  state_name='delhi' #input()\n",
        "  city_name='delhi' #input()\n",
        "  covidbeds=10000 #int(input())\n",
        "  avlblcovbeds=100 #int(input())\n",
        "  ventilbeds=20000 #int(input())\n",
        "  avlblventilbeds=200 #int(input())\n",
        "  li.append(city(city_id,state_name,city_name,covidbeds,avlblcovbeds,ventilbeds,avlblventilbeds))\n",
        "\n",
        "g=CovBedsAnalysis()\n",
        "g.getStateWiseAvlblBedStats(li)"
      ],
      "execution_count": null,
      "outputs": [
        {
          "output_type": "stream",
          "name": "stdout",
          "text": [
            "delhi 100 200\n",
            "delhi 100 200\n"
          ]
        }
      ]
    },
    {
      "cell_type": "code",
      "metadata": {
        "colab": {
          "base_uri": "https://localhost:8080/",
          "height": 130
        },
        "id": "PTs7vo3dEgR3",
        "outputId": "d74f5f21-ed30-4b32-dda3-560ba8e4fd64"
      },
      "source": [
        "li=['delhi','delhi','hyd','kol']\n",
        "for i in li:\n",
        "  if li.count(i)>1:\n",
        "print(i)"
      ],
      "execution_count": null,
      "outputs": [
        {
          "output_type": "error",
          "ename": "IndentationError",
          "evalue": "ignored",
          "traceback": [
            "\u001b[0;36m  File \u001b[0;32m\"<ipython-input-21-86be2b4ac6c1>\"\u001b[0;36m, line \u001b[0;32m4\u001b[0m\n\u001b[0;31m    print(i)\u001b[0m\n\u001b[0m            ^\u001b[0m\n\u001b[0;31mIndentationError\u001b[0m\u001b[0;31m:\u001b[0m expected an indented block\n"
          ]
        }
      ]
    },
    {
      "cell_type": "code",
      "metadata": {
        "id": "_PfI54pyzqFj"
      },
      "source": [
        "li=[]\n",
        "for j in range(n):\n",
        "  city_id=101 #int(input())\n",
        "  state_name='delhi' #input()\n",
        "  city_name='delhi' #input()\n",
        "  covidbeds=10000 #int(input())\n",
        "  avlblcovbeds=100 #int(input())\n",
        "  ventilbeds=20000 #int(input())\n",
        "  avlblventilbeds=200 #int(input())\n",
        "  li.append(city_id,state_name,city_name,covidbeds,avlblcovbeds,ventilbeds,avlblventilbeds)\n",
        "\n",
        "print(li)\n"
      ],
      "execution_count": null,
      "outputs": []
    },
    {
      "cell_type": "code",
      "metadata": {
        "id": "s43qvyLlru6o"
      },
      "source": [
        "class Container:\n",
        "  def __init__(self,id,length,breadth,height,priceperSqrFt):\n",
        "    self.id=id\n",
        "    self.length=length\n",
        "    self.breadth=breadth\n",
        "    self.height=height\n",
        "    self.priceperSqrFt=priceperSqrFt\n",
        "\n",
        "  def findVolume(self):\n",
        "      volume=(self.length*self.breadth*self.height)\n",
        "      return volume\n",
        "\n",
        "class PackagingCompany:\n",
        "  def __init__(self,container_obj):\n",
        "    self.container_obj=container_obj\n",
        "\n",
        "  def findContainerCost(self,lid):\n",
        "    for i in self.container_obj:\n",
        "      if (i.id==lid):\n",
        "        k=i.findVolume()\n",
        "        cost=k*i.priceperSqrFt\n",
        "        return cost\n",
        "      return None\n",
        "\n",
        "  def findLargestContainer(self):\n",
        "    li1={}\n",
        "    for i in self.container_obj:\n",
        "      k1=i.findVolume()\n",
        "      li1[k1]=i.id\n",
        "    li1=sorted(li1.items(),reverse=True)\n",
        "    return li1\n",
        "\n",
        "n=int(input())\n",
        "li2=[]\n",
        "for j in range(n):\n",
        "  i=int(input())\n",
        "  l=int(input())\n",
        "  b=int(input())\n",
        "  h=int(input())\n",
        "  p=int(input())\n",
        "  li2.append(Container(i,l,b,h,p))\n",
        "\n",
        "id_find=int(input())\n",
        "obj=PackagingCompany(li2)\n",
        "res1=obj.findContainerCost(id_find)\n",
        "if res1==None:\n",
        "  print(\"No container found\")\n",
        "else:\n",
        "  print(res1)\n",
        "res2=obj.findLargestContainer()\n",
        "print(res2[0][1], res2[0][0])"
      ],
      "execution_count": null,
      "outputs": []
    },
    {
      "cell_type": "code",
      "metadata": {
        "id": "VT5s-f-00N3h"
      },
      "source": [
        "class Product:\n",
        "  def __init__(self,pname,ptype,unitprice,qtyonhand):\n",
        "    self.pname=pname\n",
        "    self.ptype=ptype\n",
        "    self.unitprice=unitprice\n",
        "    self.qtyonhand=qtyonhand\n",
        "\n",
        "class Store:\n",
        "  def __init__(self,prod_obj):\n",
        "    self.prod_obj=prod_obj\n",
        "\n",
        "  def purchaseProduct(self,pname1,pno):\n",
        "    for i in self.prod_obj:\n",
        "      if i.pname==pname1 and i.qtyonhand>0:\n",
        "        if pno>i.qtyonhand:\n",
        "          bill=i.unitprice*i.qtyonhand\n",
        "          i.qtyonhand=0\n",
        "        elif pno<=i.qtyonhand:\n",
        "          bill=i.unitprice*pno\n",
        "          i.qtyonhand-=pno\n",
        "        return bill\n",
        "    return None\n",
        "\n",
        "n=int(input())\n",
        "li=[]\n",
        "for j in range(n):\n",
        "  name=input()\n",
        "  type=input()\n",
        "  price=int(input())\n",
        "  qty=int(input())\n",
        "  li.append(Product(name,type,price,qty))\n",
        "\n",
        "pname1=input()\n",
        "pqty=int(input())\n",
        "res=Store(li)\n",
        "res1=res.purchaseProduct(pname1,pqty)\n",
        "if res1==None:\n",
        "  print(\"Product is not available\")\n",
        "  for k in res.prod_obj:\n",
        "    print(k.pname, k.qtyonhand)\n",
        "else:\n",
        "  print(res1)\n",
        "  for k in res.prod_obj:\n",
        "    print(k.pname, k.qtyonhand)"
      ],
      "execution_count": null,
      "outputs": []
    },
    {
      "cell_type": "code",
      "metadata": {
        "id": "CHSNBspX0Nsh"
      },
      "source": [
        "class Person:\n",
        "  def __init__(self,name,height,weight):\n",
        "    self.name=name\n",
        "    self.height=height\n",
        "    self.weight=weight\n",
        "  \n",
        "class Society:\n",
        "  def __init__(self,person_obj):\n",
        "    self.person_obj=person_obj\n",
        "    pass\n",
        "\n",
        "  def findAverageHeight(self):\n",
        "    li=[]\n",
        "    for i in self.person_obj:\n",
        "      li.append(i.height)\n",
        "      avg=sum(li)/len(li)\n",
        "    return avg\n",
        "\n",
        "  def findTallerThanAveragePerson(self):\n",
        "        l=[]\n",
        "        avg=self.findAverageHeight()\n",
        "        for k in self.person_obj:\n",
        "              if (k.height>avg):\n",
        "                    l.append(k.name)\n",
        "        return l\n",
        "\n",
        "n=int(input())\n",
        "li1=[]\n",
        "for k in range(n):\n",
        "  n=input()\n",
        "  h=int(input())\n",
        "  w=int(input())\n",
        "  li1.append(Person(n,h,w))\n",
        "\n",
        "res=Society(li1)\n",
        "print(f\"The Average height is {res.findAverageHeight()}\")\n",
        "res2=res.findTallerThanAveragePerson()\n",
        "print(\"Persons tallet than Average height\")\n",
        "for m in res2:\n",
        "      print(m)"
      ],
      "execution_count": null,
      "outputs": []
    },
    {
      "cell_type": "code",
      "metadata": {
        "colab": {
          "base_uri": "https://localhost:8080/"
        },
        "id": "HVTnrwiBHBsn",
        "outputId": "6d2c59b3-cebd-4361-f788-9ce8dcea0434"
      },
      "source": [
        "numberGames={}\n",
        "numberGames[(1,2,3)]=8\n",
        "numberGames[(4,2,1)]=10\n",
        "numberGames[(1,2)]=12 \n",
        "sum=0\n",
        "for k in numberGames:\n",
        "  sum+=numberGames[k]\n",
        "print (len(numberGames)+sum)\n"
      ],
      "execution_count": null,
      "outputs": [
        {
          "output_type": "stream",
          "name": "stdout",
          "text": [
            "33\n"
          ]
        }
      ]
    },
    {
      "cell_type": "code",
      "metadata": {
        "colab": {
          "base_uri": "https://localhost:8080/"
        },
        "id": "_UTtI3PauOw5",
        "outputId": "153eb821-20b7-4094-e8f6-f7612f0c9004"
      },
      "source": [
        "a='gOOd moRning'\n",
        "print(a)\n",
        "s=str(a)\n",
        "print(s.title())"
      ],
      "execution_count": null,
      "outputs": [
        {
          "output_type": "stream",
          "name": "stdout",
          "text": [
            "gOOd moRning\n",
            "Good Morning\n"
          ]
        }
      ]
    },
    {
      "cell_type": "code",
      "metadata": {
        "colab": {
          "base_uri": "https://localhost:8080/"
        },
        "id": "QdffWkleyx9a",
        "outputId": "8842a949-26a4-4da1-a437-4760dc94ff88"
      },
      "source": [
        "import math\n",
        "print(math.floor(5.9)) #5\n",
        "print(math.ceil(5.5))#6\n",
        "print(math.sqrt(36))"
      ],
      "execution_count": null,
      "outputs": [
        {
          "output_type": "stream",
          "name": "stdout",
          "text": [
            "5\n",
            "6\n",
            "6.0\n"
          ]
        }
      ]
    },
    {
      "cell_type": "code",
      "metadata": {
        "colab": {
          "base_uri": "https://localhost:8080/"
        },
        "id": "_c2cYWxxyxKp",
        "outputId": "c49edc1a-247a-4e5e-cbde-f021dd1d7dfd"
      },
      "source": [
        "Numbers=[1,2,3,4]\n",
        "Numbers.append(5)\n",
        "print(len(Numbers))\n"
      ],
      "execution_count": null,
      "outputs": [
        {
          "output_type": "stream",
          "name": "stdout",
          "text": [
            "5\n"
          ]
        }
      ]
    },
    {
      "cell_type": "code",
      "metadata": {
        "colab": {
          "base_uri": "https://localhost:8080/",
          "height": 198
        },
        "id": "9xMFSBSYyxH5",
        "outputId": "a09ff92a-ef6e-46da-cb4a-8a0f0ec06059"
      },
      "source": [
        "my_tuple=(1,5,3,9)\n",
        "my_tuple.update((8,6,7))\n",
        "print(len(my_tuple))\n"
      ],
      "execution_count": null,
      "outputs": [
        {
          "output_type": "error",
          "ename": "AttributeError",
          "evalue": "ignored",
          "traceback": [
            "\u001b[0;31m---------------------------------------------------------------------------\u001b[0m",
            "\u001b[0;31mAttributeError\u001b[0m                            Traceback (most recent call last)",
            "\u001b[0;32m<ipython-input-37-484ef11fc925>\u001b[0m in \u001b[0;36m<module>\u001b[0;34m()\u001b[0m\n\u001b[1;32m      1\u001b[0m \u001b[0mmy_tuple\u001b[0m\u001b[0;34m=\u001b[0m\u001b[0;34m(\u001b[0m\u001b[0;36m1\u001b[0m\u001b[0;34m,\u001b[0m\u001b[0;36m5\u001b[0m\u001b[0;34m,\u001b[0m\u001b[0;36m3\u001b[0m\u001b[0;34m,\u001b[0m\u001b[0;36m9\u001b[0m\u001b[0;34m)\u001b[0m\u001b[0;34m\u001b[0m\u001b[0;34m\u001b[0m\u001b[0m\n\u001b[0;32m----> 2\u001b[0;31m \u001b[0mmy_tuple\u001b[0m\u001b[0;34m.\u001b[0m\u001b[0mupdate\u001b[0m\u001b[0;34m(\u001b[0m\u001b[0;34m(\u001b[0m\u001b[0;36m8\u001b[0m\u001b[0;34m,\u001b[0m\u001b[0;36m6\u001b[0m\u001b[0;34m,\u001b[0m\u001b[0;36m7\u001b[0m\u001b[0;34m)\u001b[0m\u001b[0;34m)\u001b[0m\u001b[0;34m\u001b[0m\u001b[0;34m\u001b[0m\u001b[0m\n\u001b[0m\u001b[1;32m      3\u001b[0m \u001b[0mprint\u001b[0m\u001b[0;34m(\u001b[0m\u001b[0mlen\u001b[0m\u001b[0;34m(\u001b[0m\u001b[0mmy_tuple\u001b[0m\u001b[0;34m)\u001b[0m\u001b[0;34m)\u001b[0m\u001b[0;34m\u001b[0m\u001b[0;34m\u001b[0m\u001b[0m\n",
            "\u001b[0;31mAttributeError\u001b[0m: 'tuple' object has no attribute 'update'"
          ]
        }
      ]
    },
    {
      "cell_type": "code",
      "metadata": {
        "colab": {
          "base_uri": "https://localhost:8080/"
        },
        "id": "7Dw4U_uMyxEe",
        "outputId": "c61844e3-2c00-4477-9ae2-1afa68197a5f"
      },
      "source": [
        "class Employee:\n",
        "    pass\n",
        "\n",
        "e=Employee()\n",
        "e.name='Ram'\n",
        "e.dept='HR'\n",
        "e.salary=6000\n",
        "print(e.name,e.dept,e.salary)"
      ],
      "execution_count": null,
      "outputs": [
        {
          "output_type": "stream",
          "name": "stdout",
          "text": [
            "Ram HR 6000\n"
          ]
        }
      ]
    },
    {
      "cell_type": "code",
      "metadata": {
        "id": "OrftPBm_yxAw"
      },
      "source": [
        "#What will calculate(2030) return?\n",
        "def calculate(num):\n",
        " i=0\n",
        " while num>0:\n",
        "  i=i*10+num%10\n",
        "  num=num//10\n",
        " return i\n",
        "n=calculate(2030)\n",
        "print(n)"
      ],
      "execution_count": null,
      "outputs": []
    },
    {
      "cell_type": "code",
      "metadata": {
        "colab": {
          "base_uri": "https://localhost:8080/"
        },
        "id": "lT_DrsEVyw-o",
        "outputId": "eb1e08e6-b6bb-4ff3-964c-05acc8f6e855"
      },
      "source": [
        "\n",
        "x=1\n",
        "y=\"2\"\n",
        "z=4\n",
        "sum=0\n",
        "for i in (x,y,z):\n",
        "if isinstance(i,int):\n",
        "sum+=i\n",
        "print(sum)\n"
      ],
      "execution_count": null,
      "outputs": [
        {
          "output_type": "stream",
          "name": "stdout",
          "text": [
            "302\n"
          ]
        }
      ]
    },
    {
      "cell_type": "code",
      "metadata": {
        "colab": {
          "base_uri": "https://localhost:8080/"
        },
        "id": "Zh_9iWmaBvc-",
        "outputId": "9a8f1434-efab-4c5b-9468-6d1f38e957d2"
      },
      "source": [
        "print([4]*3)"
      ],
      "execution_count": null,
      "outputs": [
        {
          "output_type": "stream",
          "name": "stdout",
          "text": [
            "[4, 4, 4]\n"
          ]
        }
      ]
    },
    {
      "cell_type": "code",
      "metadata": {
        "colab": {
          "base_uri": "https://localhost:8080/"
        },
        "id": "GvtAkrH3CIhE",
        "outputId": "eeed6acc-41a2-4f07-faf1-fdd1e818a4d5"
      },
      "source": [
        "print('hello all,welcome to the Python course'.split(  ))"
      ],
      "execution_count": null,
      "outputs": [
        {
          "output_type": "stream",
          "name": "stdout",
          "text": [
            "['hello', 'all,welcome', 'to', 'the', 'Python', 'course']\n"
          ]
        }
      ]
    },
    {
      "cell_type": "code",
      "metadata": {
        "id": "dL75-RfXChb9"
      },
      "source": [
        "list1=['Welcome','to','Python']\n",
        "Which statement will product the following output?\n",
        "'Welcome to Python'\n",
        "1.print((lambda x:''.join(x))(list1))\n",
        "2.def func(x):\n",
        "    for i in x:\n",
        "        str+=i+' '\n",
        "    return str\n",
        "func(list1)\n",
        "3.str(list1)\n",
        "4.def func(x):\n",
        "    return ' '.join(x)\n",
        "print(func(list1))\n"
      ],
      "execution_count": null,
      "outputs": []
    },
    {
      "cell_type": "code",
      "metadata": {
        "id": "ep1Ox91XC0yM"
      },
      "source": [
        "x=['abc','ab','a']\n",
        "print(x.sort(key=len(x)))\n"
      ],
      "execution_count": null,
      "outputs": []
    },
    {
      "cell_type": "code",
      "metadata": {
        "id": "tDxqsEJzJQHn"
      },
      "source": [
        "class Hotel:\n",
        "  def __init__(self,regno,hotelName,roomType,Price,wifiFacility):\n",
        "    self.regno=regno\n",
        "    self.hotelName=hotelName\n",
        "    self.roomType=roomType\n",
        "    self.Price=Price\n",
        "    self.wifiFacility=wifiFacility\n",
        "\n",
        "class Myclass:\n",
        "  def __init__(self,Hotel_obj):\n",
        "    self.Hotel_obj=Hotel_obj\n",
        "\n",
        "  def findAverageprice(self,room_type):\n",
        "    li=[]\n",
        "    for i in self.Hotel_obj:\n",
        "      if i.roomType==room_type:\n",
        "        if i.wifiFacility==\"true\":\n",
        "            li.append(i.Price)\n",
        "        else:\n",
        "            return None\n",
        "    avg=sum(li)/len(li)\n",
        "    print(li)\n",
        "    return avg\n",
        "    \n",
        "  def findwifihotel(self):\n",
        "    li1=[]\n",
        "    for i in self.Hotel_obj:\n",
        "        if (i.wifiFacility=='true'):\n",
        "            li1.append(i)\n",
        "        else:\n",
        "            return None\n",
        "    return li1   \n",
        "        \n",
        "    \n",
        "  \n",
        "n=int(input())\n",
        "l=[]\n",
        "for j in range(n):\n",
        "  reg=int(input())\n",
        "  name=input()\n",
        "  type1=input()\n",
        "  price=int(input())\n",
        "  wifi=input()\n",
        "  l.append(Hotel(reg,name,type1,price,wifi))\n",
        "\n",
        "find=input()\n",
        "\n",
        "obj=Myclass(l)\n",
        "s=obj.findAverageprice(find)\n",
        "if s==None:\n",
        "    print(\"No such Hotel\")\n",
        "else:\n",
        "    print(s)\n",
        "w=obj.findwifihotel()    \n",
        "if w==None:\n",
        "    print(\"No wifi avalaible\")\n",
        "else:\n",
        "  for k in w:\n",
        "    print(k.hotelName, k.Price)"
      ],
      "execution_count": null,
      "outputs": []
    },
    {
      "cell_type": "code",
      "metadata": {
        "id": "86JoS2qWdugO"
      },
      "source": [
        "class Medicine:\n",
        "  def __init__(self,MedicineName,batch,disease,price):\n",
        "    self.MedicineName=MedicineName\n",
        "    self.batch=batch\n",
        "    self.disease=disease\n",
        "    self.price=price\n",
        "    \n",
        "class solution:\n",
        "    def __init__(self,medicine_obj):\n",
        "        self.medicine_obj=medicine_obj\n",
        "        pass\n",
        "    \n",
        "    def getPricebyDisease(self,d_type):\n",
        "        li=[]\n",
        "        for i in self.medicine_obj:\n",
        "            if i.disease==d_type:\n",
        "                li.append(i.price)\n",
        "        return li\n",
        "        \n",
        "n=int(input())\n",
        "li1=[]\n",
        "for j in range(n):\n",
        "    mname=input()\n",
        "    b=input()\n",
        "    d=input()\n",
        "    p=int(input())\n",
        "    li1.append(Medicine(mname,b,d,p))\n",
        "\n",
        "dname=input()\n",
        "obj=solution(li1)\n",
        "res=obj.getPricebyDisease(dname)\n",
        "for k in res:\n",
        "    print(k)"
      ],
      "execution_count": null,
      "outputs": []
    },
    {
      "cell_type": "code",
      "metadata": {
        "id": "HJIIcmJRdudS"
      },
      "source": [
        "class Fooditem:\n",
        "    def __init__(self,item_id,item_name,item_category,item_price):\n",
        "        self.item_id=item_id\n",
        "        self.item_name=item_name\n",
        "        self.item_category=item_category\n",
        "        self.item_price=item_price\n",
        "        \n",
        "    def provideDiscount(self,d):\n",
        "        if d>0:\n",
        "         self.item_price-=(d/100*self.item_price)\n",
        "         return self.item_price\n",
        "        \n",
        "class Restaurent:\n",
        "    def __init__(self,r_name,f_obj):\n",
        "        self.r_name=r_name\n",
        "        self.f_obj=f_obj\n",
        "    \n",
        "    def retrieveUpdatePrice(self,id2,d1):\n",
        "        for i in self.f_obj:\n",
        "            if (i.item_id==id2):\n",
        "                i.provideDiscount(d1)\n",
        "                return i\n",
        "        return None\n",
        "    \n",
        "n=int(input())\n",
        "li=[]\n",
        "for j in range(n):\n",
        "    i=int(input())\n",
        "    n=input()\n",
        "    c=input()\n",
        "    p=int(input())\n",
        "    li.append(Fooditem(i,n,c,p))\n",
        "id1=int(input())\n",
        "d2=int(input())\n",
        "obj=Restaurent(\"name\",li)\n",
        "res=obj.retrieveUpdatePrice(id1,d2)\n",
        "if res==None:\n",
        "  print(\"No Food item exists which matches the search criteria\")\n",
        "else:\n",
        "  print(f'{res.item_name}-{res.item_price}')    "
      ],
      "execution_count": null,
      "outputs": []
    },
    {
      "cell_type": "code",
      "metadata": {
        "id": "ysmLQOyjduar",
        "colab": {
          "base_uri": "https://localhost:8080/",
          "height": 130
        },
        "outputId": "fd192579-3e65-4a55-c312-75704f5035aa"
      },
      "source": [
        "# cook your dish here\n",
        "class Player:\n",
        "    def __init__(self,pname,pcountry,p_age,countryf):\n",
        "        self.pname=pname\n",
        "        self.pcountry=pcountry\n",
        "        self.p_age=p_age\n",
        "        self.countryf=countryf\n",
        "        \n",
        "def countPlayers(player_obj,c):\n",
        "    count=0\n",
        "    for i in player_obj:\n",
        "        if i.countryf==c:\n",
        "            count+=1\n",
        "    return count\n",
        "\n",
        "def getPlayerPlayedForMaxCountry(player_obj):\n",
        "    d={}\n",
        "    for k in player_obj:\n",
        "        d[k.pname]=k.pcountry\n",
        "    d=sorted(d.items(),reverse=True)\n",
        "    return d\n",
        "    \n",
        "n=int(input())\n",
        "li=[]\n",
        "for i in range(n):\n",
        "    name=input()\n",
        "    pc=[]\n",
        "    j=int(input())\n",
        "    for u in range(j):\n",
        "        pc.append(input())\n",
        "    age=int(input())\n",
        "    cf=input()\n",
        "    li.append(Player(name,pc,age,cf))\n",
        "country=input()\n",
        "print(countPlayers(li,country))\n",
        "res=getPlayerPlayedForMaxCountry(li)\n",
        "print(res[0][0])"
      ],
      "execution_count": 4,
      "outputs": [
        {
          "output_type": "error",
          "ename": "SyntaxError",
          "evalue": "ignored",
          "traceback": [
            "\u001b[0;36m  File \u001b[0;32m\"<ipython-input-4-a8e7e90f73a0>\"\u001b[0;36m, line \u001b[0;32m33\u001b[0m\n\u001b[0;31m    country=input()\u001b[0m\n\u001b[0m          ^\u001b[0m\n\u001b[0;31mSyntaxError\u001b[0m\u001b[0;31m:\u001b[0m invalid syntax\n"
          ]
        }
      ]
    }
  ]
}