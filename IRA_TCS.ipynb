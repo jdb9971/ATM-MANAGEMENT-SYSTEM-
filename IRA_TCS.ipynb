{
  "nbformat": 4,
  "nbformat_minor": 0,
  "metadata": {
    "colab": {
      "name": "IRA_TCS.ipynb",
      "provenance": [],
      "collapsed_sections": [],
      "authorship_tag": "ABX9TyPRsxxCtC6TBE/PnMfSINSM",
      "include_colab_link": true
    },
    "kernelspec": {
      "name": "python3",
      "display_name": "Python 3"
    },
    "language_info": {
      "name": "python"
    }
  },
  "cells": [
    {
      "cell_type": "markdown",
      "metadata": {
        "id": "view-in-github",
        "colab_type": "text"
      },
      "source": [
        "<a href=\"https://colab.research.google.com/github/jdb9971/ATM-MANAGEMENT-SYSTEM-/blob/main/IRA_TCS.ipynb\" target=\"_parent\"><img src=\"https://colab.research.google.com/assets/colab-badge.svg\" alt=\"Open In Colab\"/></a>"
      ]
    },
    {
      "cell_type": "code",
      "metadata": {
        "id": "L4y_8zQYqcg5"
      },
      "source": [
        "class Employee:\n",
        "    def __init__(self,name,id,age,gender):\n",
        "        self.name=name\n",
        "        self.id=id\n",
        "        self.age=age\n",
        "        self.gender=gender\n",
        "\n",
        "class Salary:\n",
        "    def __init__(self,pay):\n",
        "      self.pay=pay\n",
        "          \n",
        "    def view_salary(self):\n",
        "      bonus=5000\n",
        "      total_pay=(self.pay*12)+bonus\n",
        "      print(total_pay)\n",
        "\n",
        "class Organization:\n",
        "    def __init__(self,name,elist):\n",
        "        self.name=name\n",
        "        self.elist=elist\n",
        "    \n",
        "    def addemployee(self,name,id,age,gender):\n",
        "        e=Employee(name,id,age,gender)\n",
        "        self.elist.append(e)\n",
        "    \n",
        "    def basic_salary(self,pay):\n",
        "      s=Salary(pay)\n",
        "      s.view_salary()\n",
        "     \n",
        "\n",
        "    def viewemployee(self):\n",
        "        print(\"Employees are :-\")\n",
        "        for i in self.elist:\n",
        "            print(i.name,end=\",\")\n",
        "            print(i.id,end=\",\")\n",
        "            print(i.age,end=\",\")\n",
        "            print(i.gender,end=\",\")\n",
        "\n",
        "        \n",
        "    def countemployee(self):\n",
        "        count=len(self.elist)\n",
        "        print(count)\n",
        "      \n",
        "    def emp_find(self,id_find):\n",
        "      for i in self.elist:\n",
        "        if i.id == id_find: print(i.name)\n",
        "    \n",
        "    def emp_agefind(self,age_find):\n",
        "      c=0\n",
        "      for i in self.elist:\n",
        "        if i.age==age_find:\n",
        "          c=c+1\n",
        "      print(f\"No. of employees of age {age_find} is {c}\")\n",
        "\n",
        "\n",
        "print('*******Welcome to TCS Xplore*******')\n",
        "li=[]\n",
        "o=Organization('TCS',li)\n",
        "n=int(input(\"Enter no. of employee :- \"))\n",
        "for i in range(n):\n",
        "    name=input(\"\\nEnter name :- \")\n",
        "    id=int(input(\"Enter id :-\"))\n",
        "    age=int(input('Enter age :- '))\n",
        "    gender=input('Enter gender :- ')\n",
        "    salary=int(input(\"Enter your salary:-\"))\n",
        "    o.addemployee(name,id,age,gender)\n",
        "    o.basic_salary(salary)\n",
        "\n",
        "o.viewemployee()\n",
        "o.countemployee()\n",
        "#o.emp_find(101)\n",
        "o.emp_agefind(12)\n",
        "\n"
      ],
      "execution_count": null,
      "outputs": []
    },
    {
      "cell_type": "code",
      "metadata": {
        "id": "MJ_4tnffx9dw",
        "colab": {
          "base_uri": "https://localhost:8080/"
        },
        "outputId": "861b3f91-420d-4b28-fe44-36fa0efe3db8"
      },
      "source": [
        "class Account:\n",
        "  def __init__(self,accntNo,accntName,accntBalance):\n",
        "    self.accntNo=accntNo\n",
        "    self.accntName=accntName\n",
        "    self.accntBalance=accntBalance\n",
        "\n",
        "  def depositAmnt(self,depamnt):\n",
        "    self.depamnt=depamnt\n",
        "    self.accntBalance=self.accntBalance+self.depamnt\n",
        "    return self.accntBalance\n",
        "\n",
        "  def withdrawAmnt(self,withamnt):\n",
        "    self.withamnt=withamnt\n",
        "    if True:\n",
        "      print(\"No Adequate balance\")\n",
        "    else:\n",
        "      self.accntBalance=self.accntBalance-self.withamnt\n",
        "      print(self.accntBalance)\n",
        "    \n",
        "\n",
        "acno=120\n",
        "acname=\"Rajesh\"\n",
        "acntbal=1500\n",
        "depamnt=1200\n",
        "withamnt=2000\n",
        "acnt=Account(acno,acname,acntbal)\n",
        "print(acnt.depositAmnt(depamnt))\n",
        "acnt.withdrawAmnt(withamnt)\n",
        "\n",
        "\n",
        "    "
      ],
      "execution_count": null,
      "outputs": [
        {
          "output_type": "stream",
          "name": "stdout",
          "text": [
            "2700\n",
            "No Adequate balance\n"
          ]
        }
      ]
    },
    {
      "cell_type": "code",
      "metadata": {
        "colab": {
          "base_uri": "https://localhost:8080/"
        },
        "id": "H2WHd3Kg4CRH",
        "outputId": "47b3cc19-14f2-4a76-9615-c50ac9589a8a"
      },
      "source": [
        "a, b, c, d, e = map(str, input(\"Enter five values\\n\").split(', '))\n",
        "acno=int(a)\n",
        "acname=b\n",
        "acntbal=int(c)\n",
        "depamnt=int(d)\n",
        "withamnt=int(e)"
      ],
      "execution_count": null,
      "outputs": [
        {
          "output_type": "stream",
          "name": "stdout",
          "text": [
            "Enter five values\n",
            "120, Rajesh, 1500, 1200, 2000\n",
            "120 Rajesh 1500 1200 2000\n"
          ]
        }
      ]
    },
    {
      "cell_type": "code",
      "metadata": {
        "colab": {
          "base_uri": "https://localhost:8080/"
        },
        "id": "VvUONygh4COx",
        "outputId": "d7ea75d1-b9bc-4af4-92af-818ba6372723"
      },
      "source": [
        "class Account:\n",
        "  def __init__(self,accntNo,accntName,accntBalance):\n",
        "    self.accntNo=accntNo\n",
        "    self.accntName=accntName\n",
        "    self.accntBalance=accntBalance\n",
        "\n",
        "  def depositAmnt(self,depamnt):\n",
        "    self.depamnt=depamnt\n",
        "    self.accntBalance=self.accntBalance+self.depamnt\n",
        "    return self.accntBalance\n",
        "\n",
        "  def withdrawAmnt(self,withamnt):\n",
        "    self.withamnt=withamnt\n",
        "    if True:\n",
        "      print(\"No Adequate balance\")\n",
        "    else:\n",
        "      self.accntBalance=self.accntBalance-self.withamnt\n",
        "      print(self.accntBalance)\n",
        "    \n",
        "\n",
        "a, b, c, d, e = [x for x in input().split(', ')]\n",
        "acno=int(a)\n",
        "acname=b\n",
        "acntbal=int(c)\n",
        "depamnt=int(d)\n",
        "withamnt=int(e)\n",
        "acnt=Account(acno,acname,acntbal)\n",
        "print(acnt.depositAmnt(depamnt))\n",
        "acnt.withdrawAmnt(withamnt)\n",
        "\n",
        "\n",
        "    \n",
        "            "
      ],
      "execution_count": null,
      "outputs": [
        {
          "output_type": "stream",
          "name": "stdout",
          "text": [
            " 120, Rajesh, 1500, 1200, 2000\n",
            "2700\n",
            "No Adequate balance\n"
          ]
        }
      ]
    },
    {
      "cell_type": "code",
      "metadata": {
        "colab": {
          "base_uri": "https://localhost:8080/"
        },
        "id": "f9Kufn1M4CME",
        "outputId": "55859cf4-a0a0-4939-fc66-b4b3d2c656f8"
      },
      "source": [
        "#1st question of 15 marks was : \n",
        "#Take an integer as input . Calculate the sum of its digit . \n",
        "#If the sum is divisible by 3 , then print True , else print False .\n",
        "\n",
        "n='1234'\n",
        "sum=0\n",
        "for i in n:\n",
        "  sum=int(i)+sum\n",
        "if sum%3==0:\n",
        "  print(\"True\")\n",
        "else:\n",
        "  print(\"False\")"
      ],
      "execution_count": null,
      "outputs": [
        {
          "output_type": "stream",
          "name": "stdout",
          "text": [
            "False\n"
          ]
        }
      ]
    },
    {
      "cell_type": "code",
      "metadata": {
        "id": "DKJDw8GB4CI2"
      },
      "source": [
        "#Dictionary\n",
        "d={'name':'joy','age':24,'work':'tcs'}\n",
        "for i in d:\n",
        "  print(i) #print the values\n",
        "  print(d[i])#print values\n"
      ],
      "execution_count": null,
      "outputs": []
    },
    {
      "cell_type": "code",
      "metadata": {
        "id": "18rlIl3vMtlF"
      },
      "source": [
        "d={}\n",
        "C\n",
        "  d\n",
        "print(d)"
      ],
      "execution_count": null,
      "outputs": []
    },
    {
      "cell_type": "code",
      "metadata": {
        "colab": {
          "base_uri": "https://localhost:8080/"
        },
        "id": "XqlQ9nKLMthu",
        "outputId": "368bd93d-18dd-410f-b9f7-92a47ee645a2"
      },
      "source": [
        "class create_dict(dict):\n",
        "\n",
        "    def __init__(self):\n",
        "        self = dict()\n",
        "\n",
        "    def add(self, key, value):\n",
        "        self[key] = value\n",
        "\n",
        "# example\n",
        "\n",
        "\n",
        "dct = create_dict()\n",
        "\n",
        "dct.add('a', 19)\n",
        "dct.add('b', 21)\n",
        "print(dct)"
      ],
      "execution_count": null,
      "outputs": [
        {
          "output_type": "stream",
          "name": "stdout",
          "text": [
            "{'a': 19, 'b': 21}\n"
          ]
        }
      ]
    },
    {
      "cell_type": "code",
      "metadata": {
        "id": "C6vVPx2PN6jg"
      },
      "source": [
        "class stock:\n",
        "    def __init__(self,StockName,StockSector,StockValue):\n",
        "        self.StockName=StockName\n",
        "        self.StockSector=StockSector\n",
        "        self.Stockvalue=StockValue\n",
        "    \n",
        "class StockDemo:\n",
        "    def ___init__(self):\n",
        "        pass\n",
        "    \n",
        "    def getStocklist(self,stock_obj,stk):\n",
        "        for i in stock_obj:\n",
        "          if (i.StockName==stk and i.StockValue>500):\n",
        "              return i.StockName\n",
        "\n",
        "n=int(input())\n",
        "slist=[]\n",
        "for x in range(n):\n",
        "    sname=input()\n",
        "    ssector=input()\n",
        "    svalue=int(input())\n",
        "    slist.append(stock(sname,ssector,svalue))\n",
        "stk=input()\n",
        "cmp=StockDemo()\n",
        "print(cmp.getStocklist(slist,stk))\n"
      ],
      "execution_count": null,
      "outputs": []
    },
    {
      "cell_type": "code",
      "metadata": {
        "id": "3cTlFNR-QkJC"
      },
      "source": [
        "class apartment:\n",
        "    def __init__(self,flatnumber,ownername,bill):\n",
        "      self.flatnumber=flatnumber\n",
        "      self.ownername=ownername\n",
        "      self.bill=bill\n",
        "\n",
        "class apartment_demo:\n",
        "    def __init__(self):\n",
        "        pass \n",
        "\n",
        "    def getSecondMinBill(self,obj_apartment):\n",
        "        li=[]\n",
        "        for i in obj_apartment:\n",
        "            li.append(i.bill)\n",
        "        l=max(li)  #li.sort()\n",
        "        li.remove(l)\n",
        "        k=max(li)\n",
        "        return k #return li[1]\n",
        "\n",
        "n=int(input())\n",
        "f=[]\n",
        "for j in range(n):\n",
        "    fnumber=input()\n",
        "    fowner=input()\n",
        "    fbill=int(input())\n",
        "    f.append(apartment(fnumber,fowner,fbill))\n",
        "ap=apartment_demo()\n",
        "ap.getSecondMinBill(f)"
      ],
      "execution_count": null,
      "outputs": []
    },
    {
      "cell_type": "markdown",
      "metadata": {
        "id": "woYREYFG2I8K"
      },
      "source": [
        "\n",
        "Create a class Bill with attributes mobile number and payment bill.\n",
        "Create another class mobile with attributes service provider, mobile number, data used, payment method.\n",
        "Service provider maybe airtel or jio. Data used is integer values in Gigabytes(GB). Payment method maybe paytm,gpay,amazon and so on.\n",
        "Create a method calculate bill that takes the list of objects and calculates the bill and returns the list of objects of class bill with mobile number and payment bill.\n",
        "\n",
        "The payment is calculated as follows:\n",
        "\n",
        "1.If the service provider is airtel, the bill is Rs.11 for every 1GB used and if it is jio, the bill is Rs.10 for every 1GB used. \n",
        "2. If the payment method is paytm there is a cashback of 10% of the total bill for airtel users only. The bill is calculated and rounded off after deducing the cashback value.\n",
        "\n",
        "input:\n",
        "3(No of objects to be created) \n",
        "airtel \n",
        "123 \n",
        "16 \n",
        "paytm \n",
        "airtel \n",
        "456 \n",
        "10 \n",
        "amazon \n",
        "jio \n",
        "788 \n",
        "10 \n",
        "paytm \n",
        "\n",
        "Output:\n",
        "\n",
        "(123,158) \n",
        "(456,110) \n",
        "(789,100) \n"
      ]
    },
    {
      "cell_type": "code",
      "metadata": {
        "colab": {
          "base_uri": "https://localhost:8080/"
        },
        "id": "zzqhlilP2Jzy",
        "outputId": "70ac09e6-ca61-4b74-91fb-a05aa3dd1f89"
      },
      "source": [
        "class Bill:\n",
        "  def __init__(self,mob_no,pay_bill):\n",
        "    self.mob_no=mob_no\n",
        "    self.pay_bill=pay_bill\n",
        "\n",
        "class mobile:\n",
        "  def __init__(self,ser_prov,mob_no,data_used,pay_method):\n",
        "    self.ser_prov=ser_prov\n",
        "    self.mob_no=mob_no\n",
        "    self.data_used=data_used\n",
        "    self.pay_method=pay_method\n",
        "\n",
        "  def cal_bill(self,obj):\n",
        "    li=[]\n",
        "    for i in obj:\n",
        "      if i.ser_prov=='airtel':\n",
        "        pay_bill=11*i.data_used\n",
        "        if i.pay_method=='paytm':\n",
        "          pay_bill=pay_bill-(pay_bill*0.1)\n",
        "      elif i.ser_prov=='jio':\n",
        "        pay_bill=10*i.data_used\n",
        "      li.append(Bill(i.mob_no,int(pay_bill)))\n",
        "    return li\n",
        "\n",
        "n=int(input())\n",
        "li1=[]\n",
        "for j in range(n):\n",
        "  name=input()\n",
        "  mob=int(input())\n",
        "  data=int(input())\n",
        "  method=input()\n",
        "  li1.append(mobile(name,mob,data,method))\n",
        "\n",
        "cus=mobile(\"\",0,0,\"\")\n",
        "li2=cus.cal_bill(li1)\n",
        "\n",
        "for k in li2:\n",
        "  print(f\"({k.mob_no},{k.pay_bill})\")"
      ],
      "execution_count": null,
      "outputs": [
        {
          "output_type": "stream",
          "name": "stdout",
          "text": [
            "3\n",
            "airtel\n",
            "123\n",
            "16\n",
            "paytm\n",
            "airtel\n",
            "456\n",
            "10\n",
            "amazon\n",
            "jio\n",
            "788\n",
            "10\n",
            "paytm\n",
            "(123,158)\n",
            "(456,110)\n",
            "(788,100)\n"
          ]
        }
      ]
    },
    {
      "cell_type": "markdown",
      "metadata": {
        "id": "Ce38nux0SXfD"
      },
      "source": [
        " Create a function palindrome_list() that takes a list of strings as an argument. returns the list of strings which are only strings"
      ]
    },
    {
      "cell_type": "code",
      "metadata": {
        "id": "ifoqt7CsCiat"
      },
      "source": [
        "def palindrome_list(li):\n",
        "  res=[]\n",
        "  for i in li:\n",
        "    p=i.lower()\n",
        "    if p==p[::-1]:\n",
        "      res.append(i)\n",
        "  return res\n",
        "\n",
        "if  __name__ == '__main__':\n",
        " n=int(input())\n",
        " li1=[]\n",
        " for j in range(n):\n",
        "  str=input()\n",
        "  li1.append(str)\n",
        " k=palindrome_list(li1)\n",
        " for x in k:\n",
        "  print(x)\n"
      ],
      "execution_count": null,
      "outputs": []
    },
    {
      "cell_type": "code",
      "metadata": {
        "id": "ym7rKklAXYJD"
      },
      "source": [
        "class Book:\n",
        "  def __init__(self,book_id,book_name):\n",
        "    self.book_id=book_id\n",
        "    self.book_name=book_name\n",
        "\n",
        "class Library:\n",
        "  def __init__(self,library_id,addres,book_ob):\n",
        "    self.library_id=library_id\n",
        "    self.addres=addres\n",
        "    self.book_ob=book_ob\n",
        "  \n",
        "  def count_book(self,char):\n",
        "    count=0\n",
        "    for i in self.book_ob:\n",
        "      if i.book_name[0]==char:\n",
        "        count=count+1\n",
        "    return count\n",
        "\n",
        "  def remove_book(self,li):\n",
        "    for j in self.book_ob:\n",
        "      if j.book_name not in li:\n",
        "        print(j.book_name)\n",
        "\n",
        "n=int(input())\n",
        "li=[]\n",
        "for i in range(n):\n",
        "  id=int(input())\n",
        "  name=input()\n",
        "  li.append(Book(id,name))\n",
        "found=Library(123,'kol',li)\n",
        "ch=input()\n",
        "n1=int(input())\n",
        "li1=[]\n",
        "for k in range(n1):\n",
        "  li1.append(input())\n",
        "print(found.count_book(ch))\n",
        "found.remove_book(li1)"
      ],
      "execution_count": null,
      "outputs": []
    },
    {
      "cell_type": "code",
      "metadata": {
        "id": "cV-I12kk5uLs"
      },
      "source": [
        "class Account:\n",
        "  def __init__(self,accntno,accntName,accntBalance):\n",
        "    self.accntno=accntno\n",
        "    self.accntName=accntName\n",
        "    self.accntBalance=accntBalance\n",
        "\n",
        "class AccountDemo:\n",
        "    def __init__(self):\n",
        "      pass\n",
        "\n",
        "    def depositAmnt(self,Account_obj,dep_amount):\n",
        "        Account_obj.accntBalance+=dep_amount\n",
        "        return Account_obj.accntBalance\n",
        "\n",
        "    def withdrawAmnt(self,Account_obj,with_amount):\n",
        "        if (Account_obj.accntBalance<1000):\n",
        "          return \"No Adequate Balance\"\n",
        "        else:\n",
        "          Account_obj.accntBalance-=with_amount\n",
        "        return Account_obj.accntBalance\n",
        "\n",
        "if __name__ == '__main__':\n",
        " acno=120\n",
        " acname='Rajesh'\n",
        " acntbal=1500\n",
        " depamnt=1200\n",
        " withamnt=5000\n",
        " acnt=Account(acno,acname,acntbal)\n",
        " acntdemoobj=AccountDemo()\n",
        " print(acntdemoobj.depositAmnt(acnt,depamnt))\n",
        " print(acntdemoobj.withdrawAmnt(acnt,withamnt))\n",
        "\n"
      ],
      "execution_count": null,
      "outputs": []
    },
    {
      "cell_type": "code",
      "metadata": {
        "colab": {
          "base_uri": "https://localhost:8080/"
        },
        "id": "4WenghHlDLir",
        "outputId": "a97f3f29-d102-447e-96e5-bebb70545a1b"
      },
      "source": [
        "class city:\n",
        "  def __init__(self,city_id,state_name,city_name,covidbeds,avlblbeds,ventibeds,avlblventibeds):\n",
        "    self.city=city\n",
        "    self.state_name=state_name\n",
        "    self.city_name=city_name\n",
        "    self.covidbeds=covidbeds\n",
        "    self.avlblbeds=avlblbeds\n",
        "    self.ventiveds=ventibeds\n",
        "    self.avlblventibeds=avlblventibeds\n",
        "\n",
        "class CovBedsAnalysis:\n",
        "  def __init__(self):\n",
        "    pass\n",
        "\n",
        "  def getStateWiseAvlblBedStats(self,city_list):\n",
        "    for i in city_list:\n",
        "      for i.state_name!=0\n",
        "      print(f\"{i.state_name} {i.avlblbeds} {i.avlblventibeds}\")\n",
        "\n",
        "  def get_CiitesWithMoreThanAvgOccupiedbeds(self,state):\n",
        "    pass\n",
        "\n",
        "\n",
        "#n=int(input())\n",
        "li=[]\n",
        "for j in range(n):\n",
        "  city_id=101 #int(input())\n",
        "  state_name='delhi' #input()\n",
        "  city_name='delhi' #input()\n",
        "  covidbeds=10000 #int(input())\n",
        "  avlblcovbeds=100 #int(input())\n",
        "  ventilbeds=20000 #int(input())\n",
        "  avlblventilbeds=200 #int(input())\n",
        "  li.append(city(city_id,state_name,city_name,covidbeds,avlblcovbeds,ventilbeds,avlblventilbeds))\n",
        "\n",
        "g=CovBedsAnalysis()\n",
        "g.getStateWiseAvlblBedStats(li)"
      ],
      "execution_count": null,
      "outputs": [
        {
          "output_type": "stream",
          "name": "stdout",
          "text": [
            "delhi 100 200\n",
            "delhi 100 200\n"
          ]
        }
      ]
    },
    {
      "cell_type": "code",
      "metadata": {
        "colab": {
          "base_uri": "https://localhost:8080/",
          "height": 130
        },
        "id": "PTs7vo3dEgR3",
        "outputId": "d74f5f21-ed30-4b32-dda3-560ba8e4fd64"
      },
      "source": [
        "li=['delhi','delhi','hyd','kol']\n",
        "for i in li:\n",
        "  if li.count(i)>1:\n",
        "print(i)"
      ],
      "execution_count": null,
      "outputs": [
        {
          "output_type": "error",
          "ename": "IndentationError",
          "evalue": "ignored",
          "traceback": [
            "\u001b[0;36m  File \u001b[0;32m\"<ipython-input-21-86be2b4ac6c1>\"\u001b[0;36m, line \u001b[0;32m4\u001b[0m\n\u001b[0;31m    print(i)\u001b[0m\n\u001b[0m            ^\u001b[0m\n\u001b[0;31mIndentationError\u001b[0m\u001b[0;31m:\u001b[0m expected an indented block\n"
          ]
        }
      ]
    },
    {
      "cell_type": "code",
      "metadata": {
        "id": "_PfI54pyzqFj"
      },
      "source": [
        "li=[]\n",
        "for j in range(n):\n",
        "  city_id=101 #int(input())\n",
        "  state_name='delhi' #input()\n",
        "  city_name='delhi' #input()\n",
        "  covidbeds=10000 #int(input())\n",
        "  avlblcovbeds=100 #int(input())\n",
        "  ventilbeds=20000 #int(input())\n",
        "  avlblventilbeds=200 #int(input())\n",
        "  li.append(city_id,state_name,city_name,covidbeds,avlblcovbeds,ventilbeds,avlblventilbeds)\n",
        "\n",
        "print(li)\n"
      ],
      "execution_count": null,
      "outputs": []
    },
    {
      "cell_type": "code",
      "metadata": {
        "id": "s43qvyLlru6o"
      },
      "source": [
        "class Container:\n",
        "  def __init__(self,id,length,breadth,height,priceperSqrFt):\n",
        "    self.id=id\n",
        "    self.length=length\n",
        "    self.breadth=breadth\n",
        "    self.height=height\n",
        "    self.priceperSqrFt=priceperSqrFt\n",
        "\n",
        "  def findVolume(self):\n",
        "      volume=(self.length*self.breadth*self.height)\n",
        "      return volume\n",
        "\n",
        "class PackagingCompany:\n",
        "  def __init__(self,container_obj):\n",
        "    self.container_obj=container_obj\n",
        "\n",
        "  def findContainerCost(self,lid):\n",
        "    for i in self.container_obj:\n",
        "      if (i.id==lid):\n",
        "        k=i.findVolume()\n",
        "        cost=k*i.priceperSqrFt\n",
        "        return cost\n",
        "      return None\n",
        "\n",
        "  def findLargestContainer(self):\n",
        "    li1={}\n",
        "    for i in self.container_obj:\n",
        "      k1=i.findVolume()\n",
        "      li1[k1]=i.id\n",
        "    li1=sorted(li1.items(),reverse=True)\n",
        "    return li1\n",
        "\n",
        "n=int(input())\n",
        "li2=[]\n",
        "for j in range(n):\n",
        "  i=int(input())\n",
        "  l=int(input())\n",
        "  b=int(input())\n",
        "  h=int(input())\n",
        "  p=int(input())\n",
        "  li2.append(Container(i,l,b,h,p))\n",
        "\n",
        "id_find=int(input())\n",
        "obj=PackagingCompany(li2)\n",
        "res1=obj.findContainerCost(id_find)\n",
        "if res1==None:\n",
        "  print(\"No container found\")\n",
        "else:\n",
        "  print(res1)\n",
        "res2=obj.findLargestContainer()\n",
        "print(res2[0][1], res2[0][0])"
      ],
      "execution_count": null,
      "outputs": []
    },
    {
      "cell_type": "code",
      "metadata": {
        "id": "VT5s-f-00N3h"
      },
      "source": [
        "class Product:\n",
        "  def __init__(self,pname,ptype,unitprice,qtyonhand):\n",
        "    self.pname=pname\n",
        "    self.ptype=ptype\n",
        "    self.unitprice=unitprice\n",
        "    self.qtyonhand=qtyonhand\n",
        "\n",
        "class Store:\n",
        "  def __init__(self,prod_obj):\n",
        "    self.prod_obj=prod_obj\n",
        "\n",
        "  def purchaseProduct(self,pname1,pno):\n",
        "    for i in self.prod_obj:\n",
        "      if i.pname==pname1 and i.qtyonhand>0:\n",
        "        if pno>i.qtyonhand:\n",
        "          bill=i.unitprice*i.qtyonhand\n",
        "          i.qtyonhand=0\n",
        "        elif pno<=i.qtyonhand:\n",
        "          bill=i.unitprice*pno\n",
        "          i.qtyonhand-=pno\n",
        "        return bill\n",
        "    return None\n",
        "\n",
        "n=int(input())\n",
        "li=[]\n",
        "for j in range(n):\n",
        "  name=input()\n",
        "  type=input()\n",
        "  price=int(input())\n",
        "  qty=int(input())\n",
        "  li.append(Product(name,type,price,qty))\n",
        "\n",
        "pname1=input()\n",
        "pqty=int(input())\n",
        "res=Store(li)\n",
        "res1=res.purchaseProduct(pname1,pqty)\n",
        "if res1==None:\n",
        "  print(\"Product is not available\")\n",
        "  for k in res.prod_obj:\n",
        "    print(k.pname, k.qtyonhand)\n",
        "else:\n",
        "  print(res1)\n",
        "  for k in res.prod_obj:\n",
        "    print(k.pname, k.qtyonhand)"
      ],
      "execution_count": null,
      "outputs": []
    },
    {
      "cell_type": "code",
      "metadata": {
        "id": "CHSNBspX0Nsh"
      },
      "source": [
        "class Person:\n",
        "  def __init__(self,name,height,weight):\n",
        "    self.name=name\n",
        "    self.height=height\n",
        "    self.weight=weight\n",
        "  \n",
        "class Society:\n",
        "  def __init__(self,person_obj):\n",
        "    self.person_obj=person_obj\n",
        "    pass\n",
        "\n",
        "  def findAverageHeight(self):\n",
        "    li=[]\n",
        "    for i in self.person_obj:\n",
        "      li.append(i.height)\n",
        "      avg=sum(li)/len(li)\n",
        "    return avg\n",
        "\n",
        "  def findTallerThanAveragePerson(self):\n",
        "        l=[]\n",
        "        avg=self.findAverageHeight()\n",
        "        for k in self.person_obj:\n",
        "              if (k.height>avg):\n",
        "                    l.append(k.name)\n",
        "        return l\n",
        "\n",
        "n=int(input())\n",
        "li1=[]\n",
        "for k in range(n):\n",
        "  n=input()\n",
        "  h=int(input())\n",
        "  w=int(input())\n",
        "  li1.append(Person(n,h,w))\n",
        "\n",
        "res=Society(li1)\n",
        "print(f\"The Average height is {res.findAverageHeight()}\")\n",
        "res2=res.findTallerThanAveragePerson()\n",
        "print(\"Persons tallet than Average height\")\n",
        "for m in res2:\n",
        "      print(m)"
      ],
      "execution_count": null,
      "outputs": []
    },
    {
      "cell_type": "code",
      "metadata": {
        "colab": {
          "base_uri": "https://localhost:8080/"
        },
        "id": "HVTnrwiBHBsn",
        "outputId": "6d2c59b3-cebd-4361-f788-9ce8dcea0434"
      },
      "source": [
        "numberGames={}\n",
        "numberGames[(1,2,3)]=8\n",
        "numberGames[(4,2,1)]=10\n",
        "numberGames[(1,2)]=12 \n",
        "sum=0\n",
        "for k in numberGames:\n",
        "  sum+=numberGames[k]\n",
        "print (len(numberGames)+sum)\n"
      ],
      "execution_count": null,
      "outputs": [
        {
          "output_type": "stream",
          "name": "stdout",
          "text": [
            "33\n"
          ]
        }
      ]
    },
    {
      "cell_type": "code",
      "metadata": {
        "colab": {
          "base_uri": "https://localhost:8080/"
        },
        "id": "_UTtI3PauOw5",
        "outputId": "153eb821-20b7-4094-e8f6-f7612f0c9004"
      },
      "source": [
        "a='gOOd moRning'\n",
        "print(a)\n",
        "s=str(a)\n",
        "print(s.title())"
      ],
      "execution_count": null,
      "outputs": [
        {
          "output_type": "stream",
          "name": "stdout",
          "text": [
            "gOOd moRning\n",
            "Good Morning\n"
          ]
        }
      ]
    },
    {
      "cell_type": "code",
      "metadata": {
        "colab": {
          "base_uri": "https://localhost:8080/"
        },
        "id": "QdffWkleyx9a",
        "outputId": "8842a949-26a4-4da1-a437-4760dc94ff88"
      },
      "source": [
        "import math\n",
        "print(math.floor(5.9)) #5\n",
        "print(math.ceil(5.5))#6\n",
        "print(math.sqrt(36))"
      ],
      "execution_count": null,
      "outputs": [
        {
          "output_type": "stream",
          "name": "stdout",
          "text": [
            "5\n",
            "6\n",
            "6.0\n"
          ]
        }
      ]
    },
    {
      "cell_type": "code",
      "metadata": {
        "colab": {
          "base_uri": "https://localhost:8080/"
        },
        "id": "_c2cYWxxyxKp",
        "outputId": "c49edc1a-247a-4e5e-cbde-f021dd1d7dfd"
      },
      "source": [
        "Numbers=[1,2,3,4]\n",
        "Numbers.append(5)\n",
        "print(len(Numbers))\n"
      ],
      "execution_count": null,
      "outputs": [
        {
          "output_type": "stream",
          "name": "stdout",
          "text": [
            "5\n"
          ]
        }
      ]
    },
    {
      "cell_type": "code",
      "metadata": {
        "id": "9xMFSBSYyxH5"
      },
      "source": [
        "my_tuple=(1,5,3,9)\n",
        "my_tuple.update((8,6,7))\n",
        "print(len(my_tuple))\n"
      ],
      "execution_count": null,
      "outputs": []
    },
    {
      "cell_type": "code",
      "metadata": {
        "colab": {
          "base_uri": "https://localhost:8080/"
        },
        "id": "7Dw4U_uMyxEe",
        "outputId": "c61844e3-2c00-4477-9ae2-1afa68197a5f"
      },
      "source": [
        "class Employee:\n",
        "    pass\n",
        "\n",
        "e=Employee()\n",
        "e.name='Ram'\n",
        "e.dept='HR'\n",
        "e.salary=6000\n",
        "print(e.name,e.dept,e.salary)"
      ],
      "execution_count": null,
      "outputs": [
        {
          "output_type": "stream",
          "name": "stdout",
          "text": [
            "Ram HR 6000\n"
          ]
        }
      ]
    },
    {
      "cell_type": "code",
      "metadata": {
        "id": "OrftPBm_yxAw"
      },
      "source": [
        "#What will calculate(2030) return?\n",
        "def calculate(num):\n",
        " i=0\n",
        " while num>0:\n",
        "  i=i*10+num%10\n",
        "  num=num//10\n",
        " return i\n",
        "n=calculate(2030)\n",
        "print(n)"
      ],
      "execution_count": null,
      "outputs": []
    },
    {
      "cell_type": "code",
      "metadata": {
        "colab": {
          "base_uri": "https://localhost:8080/"
        },
        "id": "lT_DrsEVyw-o",
        "outputId": "eb1e08e6-b6bb-4ff3-964c-05acc8f6e855"
      },
      "source": [
        "\n",
        "x=1\n",
        "y=\"2\"\n",
        "z=4\n",
        "sum=0\n",
        "for i in (x,y,z):\n",
        "if isinstance(i,int):\n",
        "sum+=i\n",
        "print(sum)\n"
      ],
      "execution_count": null,
      "outputs": [
        {
          "output_type": "stream",
          "name": "stdout",
          "text": [
            "302\n"
          ]
        }
      ]
    },
    {
      "cell_type": "code",
      "metadata": {
        "colab": {
          "base_uri": "https://localhost:8080/"
        },
        "id": "Zh_9iWmaBvc-",
        "outputId": "9a8f1434-efab-4c5b-9468-6d1f38e957d2"
      },
      "source": [
        "print([4]*3)"
      ],
      "execution_count": null,
      "outputs": [
        {
          "output_type": "stream",
          "name": "stdout",
          "text": [
            "[4, 4, 4]\n"
          ]
        }
      ]
    },
    {
      "cell_type": "code",
      "metadata": {
        "colab": {
          "base_uri": "https://localhost:8080/"
        },
        "id": "GvtAkrH3CIhE",
        "outputId": "eeed6acc-41a2-4f07-faf1-fdd1e818a4d5"
      },
      "source": [
        "print('hello all,welcome to the Python course'.split(  ))"
      ],
      "execution_count": null,
      "outputs": [
        {
          "output_type": "stream",
          "name": "stdout",
          "text": [
            "['hello', 'all,welcome', 'to', 'the', 'Python', 'course']\n"
          ]
        }
      ]
    },
    {
      "cell_type": "code",
      "metadata": {
        "id": "dL75-RfXChb9"
      },
      "source": [
        "list1=['Welcome','to','Python']\n",
        "Which statement will product the following output?\n",
        "'Welcome to Python'\n",
        "1.print((lambda x:''.join(x))(list1))\n",
        "2.def func(x):\n",
        "    for i in x:\n",
        "        str+=i+' '\n",
        "    return str\n",
        "func(list1)\n",
        "3.str(list1)\n",
        "4.def func(x):\n",
        "    return ' '.join(x)\n",
        "print(func(list1))\n"
      ],
      "execution_count": null,
      "outputs": []
    },
    {
      "cell_type": "code",
      "metadata": {
        "id": "ep1Ox91XC0yM"
      },
      "source": [
        "x=['abc','ab','a']\n",
        "print(x.sort(key=len(x)))\n"
      ],
      "execution_count": null,
      "outputs": []
    },
    {
      "cell_type": "code",
      "metadata": {
        "id": "tDxqsEJzJQHn"
      },
      "source": [
        "class Hotel:\n",
        "  def __init__(self,regno,hotelName,roomType,Price,wifiFacility):\n",
        "    self.regno=regno\n",
        "    self.hotelName=hotelName\n",
        "    self.roomType=roomType\n",
        "    self.Price=Price\n",
        "    self.wifiFacility=wifiFacility\n",
        "\n",
        "class Myclass:\n",
        "  def __init__(self,Hotel_obj):\n",
        "    self.Hotel_obj=Hotel_obj\n",
        "\n",
        "  def findAverageprice(self,room_type):\n",
        "    li=[]\n",
        "    for i in self.Hotel_obj:\n",
        "      if i.roomType==room_type:\n",
        "        if i.wifiFacility==\"true\":\n",
        "            li.append(i.Price)\n",
        "        else:\n",
        "            return None\n",
        "    avg=sum(li)/len(li)\n",
        "    print(li)\n",
        "    return avg\n",
        "    \n",
        "  def findwifihotel(self):\n",
        "    li1=[]\n",
        "    for i in self.Hotel_obj:\n",
        "        if (i.wifiFacility=='true'):\n",
        "            li1.append(i)\n",
        "        else:\n",
        "            return None\n",
        "    return li1   \n",
        "        \n",
        "    \n",
        "  \n",
        "n=int(input())\n",
        "l=[]\n",
        "for j in range(n):\n",
        "  reg=int(input())\n",
        "  name=input()\n",
        "  type1=input()\n",
        "  price=int(input())\n",
        "  wifi=input()\n",
        "  l.append(Hotel(reg,name,type1,price,wifi))\n",
        "\n",
        "find=input()\n",
        "\n",
        "obj=Myclass(l)\n",
        "s=obj.findAverageprice(find)\n",
        "if s==None:\n",
        "    print(\"No such Hotel\")\n",
        "else:\n",
        "    print(s)\n",
        "w=obj.findwifihotel()    \n",
        "if w==None:\n",
        "    print(\"No wifi avalaible\")\n",
        "else:\n",
        "  for k in w:\n",
        "    print(k.hotelName, k.Price)"
      ],
      "execution_count": null,
      "outputs": []
    },
    {
      "cell_type": "code",
      "metadata": {
        "id": "86JoS2qWdugO"
      },
      "source": [
        "class Medicine:\n",
        "  def __init__(self,MedicineName,batch,disease,price):\n",
        "    self.MedicineName=MedicineName\n",
        "    self.batch=batch\n",
        "    self.disease=disease\n",
        "    self.price=price\n",
        "    \n",
        "class solution:\n",
        "    def __init__(self,medicine_obj):\n",
        "        self.medicine_obj=medicine_obj\n",
        "        pass\n",
        "    \n",
        "    def getPricebyDisease(self,d_type):\n",
        "        li=[]\n",
        "        for i in self.medicine_obj:\n",
        "            if i.disease==d_type:\n",
        "                li.append(i.price)\n",
        "        return li\n",
        "        \n",
        "n=int(input())\n",
        "li1=[]\n",
        "for j in range(n):\n",
        "    mname=input()\n",
        "    b=input()\n",
        "    d=input()\n",
        "    p=int(input())\n",
        "    li1.append(Medicine(mname,b,d,p))\n",
        "\n",
        "dname=input()\n",
        "obj=solution(li1)\n",
        "res=obj.getPricebyDisease(dname)\n",
        "for k in res:\n",
        "    print(k)"
      ],
      "execution_count": null,
      "outputs": []
    },
    {
      "cell_type": "code",
      "metadata": {
        "id": "HJIIcmJRdudS"
      },
      "source": [
        "class Fooditem:\n",
        "    def __init__(self,item_id,item_name,item_category,item_price):\n",
        "        self.item_id=item_id\n",
        "        self.item_name=item_name\n",
        "        self.item_category=item_category\n",
        "        self.item_price=item_price\n",
        "        \n",
        "    def provideDiscount(self,d):\n",
        "        if d>0:\n",
        "         self.item_price-=(d/100*self.item_price)\n",
        "         return self.item_price\n",
        "        \n",
        "class Restaurent:\n",
        "    def __init__(self,r_name,f_obj):\n",
        "        self.r_name=r_name\n",
        "        self.f_obj=f_obj\n",
        "    \n",
        "    def retrieveUpdatePrice(self,id2,d1):\n",
        "        for i in self.f_obj:\n",
        "            if (i.item_id==id2):\n",
        "                i.provideDiscount(d1)\n",
        "                return i\n",
        "        return None\n",
        "    \n",
        "n=int(input())\n",
        "li=[]\n",
        "for j in range(n):\n",
        "    i=int(input())\n",
        "    n=input()\n",
        "    c=input()\n",
        "    p=int(input())\n",
        "    li.append(Fooditem(i,n,c,p))\n",
        "id1=int(input())\n",
        "d2=int(input())\n",
        "obj=Restaurent(\"name\",li)\n",
        "res=obj.retrieveUpdatePrice(id1,d2)\n",
        "if res==None:\n",
        "  print(\"No Food item exists which matches the search criteria\")\n",
        "else:\n",
        "  print(f'{res.item_name}-{res.item_price}')    "
      ],
      "execution_count": null,
      "outputs": []
    },
    {
      "cell_type": "code",
      "metadata": {
        "id": "ysmLQOyjduar"
      },
      "source": [
        "# cook your dish here\n",
        "class Player:\n",
        "    def __init__(self,pname,pcountry,p_age,countryf):\n",
        "        self.pname=pname\n",
        "        self.pcountry=pcountry\n",
        "        self.p_age=p_age\n",
        "        self.countryf=countryf\n",
        "        \n",
        "def countPlayers(player_obj,c):\n",
        "    count=0\n",
        "    for i in player_obj:\n",
        "        if i.countryf==c:\n",
        "            count+=1\n",
        "    return count\n",
        "\n",
        "def getPlayerPlayedForMaxCountry(player_obj):\n",
        "    d={}\n",
        "    for k in player_obj:\n",
        "        d[k.pname]=k.pcountry\n",
        "    d=sorted(d.items(),reverse=True)\n",
        "    return d\n",
        "    \n",
        "n=int(input())\n",
        "li=[]\n",
        "for i in range(n):\n",
        "    name=input()\n",
        "    pc=[]\n",
        "    j=int(input())\n",
        "    for u in range(j):\n",
        "        pc.append(input())\n",
        "    age=int(input())\n",
        "    cf=input()\n",
        "    li.append(Player(name,pc,age,cf))\n",
        "country=input()\n",
        "print(countPlayers(li,country))\n",
        "res=getPlayerPlayedForMaxCountry(li)\n",
        "print(res[0][0])"
      ],
      "execution_count": null,
      "outputs": []
    },
    {
      "cell_type": "code",
      "metadata": {
        "id": "higHfFciZqIV"
      },
      "source": [
        "class goldinvoice:\n",
        "  def __init__(self,item_id,item_name,)"
      ],
      "execution_count": null,
      "outputs": []
    },
    {
      "cell_type": "markdown",
      "metadata": {
        "id": "r-E7Z079F9Id"
      },
      "source": [
        "Question 1 :\n",
        "\n",
        "Write a Python program to find the position of the second occurrence of a given number in a given list of numbers.\n",
        "Function will take as input a list of numbers as first argument and a numeric variable as second argument . This function should return the index where the given variable value occurs in the list for the second time\n",
        "\n",
        "Function signature:\n",
        "getIndex(listOfIntegers,NumericVariable):\n",
        "\n",
        "In the above function signature, First argument represents list of integer values and\n",
        "Second argument represents a number, whose second occurred position(index) to be returned.\n",
        "The function should return the index of the number(supplied as second argument), occurred for the second time in the list.\n",
        "\n",
        "If the number does not occur for the second time in the input list or If the number does not exist in the list then the function should return 0.\n",
        "\n",
        "Develop a main program , with below sequence of actions:\n",
        "\n",
        "a. Create an empty list .\n",
        "b. Read the size of the list from standard input\n",
        "c. Based on the size of the list read above, repeat reading and adding the elements to the list created.\n",
        "d. Read the number, whose index is to be searched for its second occurrence .\n",
        "e. Then call getIndex function by supplying the input list as first argument and numeric value ( whose index is to be searched for its second occurrence) as second argument.\n",
        "Function should return the index of the second occurrence of the number(whose value supplied as second argument to the main program through numeric variable)\n",
        "Finally print the returned value of the function.\n",
        "\n",
        "Look at the Sample testcase below for more clarity to write the input and output statements in the main section.\n",
        "\n",
        "1.Sample Testcase1#:\n",
        "Let us assume to create a list with 5 elements (3,4,3,7,4) and\n",
        "to search for the index of the second occurrence of 3 in the list\n",
        "\n",
        "Input :\n",
        "\n",
        "5\n",
        "3\n",
        "4\n",
        "3\n",
        "7\n",
        "4\n",
        "3\n",
        "\n",
        "Output:\n",
        "2\n",
        "\n",
        "Desctription:\n",
        "In the above Input, the first line content(5) represents the number of elements in the list, to be created\n",
        "From Second line to 6th line represents the 5 elements as below and to be added to the list created.\n",
        "3\n",
        "4\n",
        "3\n",
        "7\n",
        "4\n",
        "\n",
        "The last line content (3) represents the number to search for its second occurance position(Index)\n",
        "in the input list\n",
        "\n",
        "Output is 2 means, the element 3 is found second time at the index value 2 , in the given input list.\n",
        "\n",
        "\n",
        "2.Sample Testcase#2:\n",
        "Input:\n",
        "4\n",
        "2\n",
        "3\n",
        "4\n",
        "5\n",
        "5\n",
        "Output:\n",
        "0\n",
        "\n",
        "Desctription:\n",
        "In the above Sample Input, the first line content(4) represents the number of elements in the list, to be created\n",
        "From Second line to 5th line represents the 4 elements as below and to be added to the list created.\n",
        "2\n",
        "3\n",
        "4\n",
        "5\n",
        "The last line content (5) represents the number to search for its second occurance position(Index) in the input list\n",
        "\n",
        "Output is 0 means, the element 5 is not found second time in the input list ."
      ]
    },
    {
      "cell_type": "code",
      "metadata": {
        "id": "liHgZzoiF8N9"
      },
      "source": [
        "n=int(input())\n",
        "li=[]\n",
        "for i in range(n):\n",
        "    li.append(int(input()))\n",
        "k=int(input())\n",
        "if k in li:\n",
        "    li.remove(k)\n",
        "if k in li:\n",
        "    print(li.index(k))\n",
        "else:\n",
        "    print(0)           "
      ],
      "execution_count": null,
      "outputs": []
    },
    {
      "cell_type": "markdown",
      "metadata": {
        "id": "dsb2hUjALlW6"
      },
      "source": [
        "Create a function with the name find_Novowels which takes a list of strings as input. The function checks each string of the list whether it has at least one vowel or not and returns another list containing the strings not having any vowel.\n",
        "\n",
        "Note:\n",
        "The check for the vowel should be case-insensitive .\n",
        "You can use the below sample input and output to verify your solution.\n",
        "\n",
        "Sample Input:\n",
        "\n",
        "4\n",
        "almost\n",
        "vtyw\n",
        "sound\n",
        "prtwy\n",
        "\n",
        "Output:\n",
        "Strings without vowels:\n",
        "vtyw\n",
        "prtwy\n"
      ]
    },
    {
      "cell_type": "code",
      "metadata": {
        "id": "xLiz_ZzPGTh2"
      },
      "source": [
        "def find_novowels(word):\n",
        " vowels=['a','e','i','o','u']\n",
        " li=[]\n",
        " for i in word:\n",
        "    for j in vowels:\n",
        "        if j in i:\n",
        "            li.append(i)\n",
        "            break\n",
        " li1=[]\n",
        " for k in word:\n",
        "    if k not in li:\n",
        "        li1.append(k)\n",
        " \n",
        " if len(li1)==0:\n",
        "     return None\n",
        " else:\n",
        "     return li1\n",
        "            \n",
        "word=[]\n",
        "n=int(input())\n",
        "for i in range(n):\n",
        " word.append(input())\n",
        "res=find_novowels(word)\n",
        "if res==None:\n",
        "    print(\"No string found\")\n",
        "else:\n",
        "    print(\"Strings without vowels:\")\n",
        "    for m in res:\n",
        "        print(m)\n",
        "            "
      ],
      "execution_count": null,
      "outputs": []
    },
    {
      "cell_type": "markdown",
      "metadata": {
        "id": "0ezFrWggDu4O"
      },
      "source": [
        "Problem Statement\n",
        "Create class Movie with below attributes: movieName - String company - String genre - String budget - int\n",
        "\n",
        "Create class Solution and implement static method \"getMovieByGenre\" in the Solution class. This method will take array of Movie objects and a searchGenre String as parameters. And will return another array of Movie objects where the searchGenre String matches with the original array of Movie object's genre attribute (case insensitive search).\n",
        "\n",
        "Write necessary getters and setters.\n",
        "\n",
        "Before calling \"getMovieByGenre\" method in the main method, read values for four Movie objects referring the attributes in above sequence along with a String searchGenre. Then call the \"getMovieByGenre\" method and write logic in main method to print \"High Budget Movie\",if the movie budget attribute is greater than 80000000 else print \"Low Budget Movie\".\n",
        "\n",
        "Input\n",
        "aaa\n",
        "Marvel\n",
        "Action\n",
        "250000000\n",
        "bbb\n",
        "Marvel\n",
        "Comedy\n",
        "25000000\n",
        "ccc\n",
        "Marvel\n",
        "Comedy\n",
        "2000000\n",
        "ddd\n",
        "Marvel\n",
        "Action\n",
        "300000000\n",
        "Action\n",
        "Output\n",
        "High Budget Movie\n",
        "High Budget Movie"
      ]
    },
    {
      "cell_type": "code",
      "metadata": {
        "id": "jY8zTCfZGTaK"
      },
      "source": [
        "class Movie:\n",
        "    def __init__(self,moviename,company,genre,budget):\n",
        "        self.moviename=moviename\n",
        "        self.company=company\n",
        "        self.genre=genre\n",
        "        self.budget=budget\n",
        "        \n",
        "class solution:\n",
        "        def getMovieByGenre(self,searchGenre,movie_obj):\n",
        "            li=[]\n",
        "            for i in movie_obj:\n",
        "                if i.genre==searchGenre:\n",
        "                    if i.budget>80000000:\n",
        "                        li.append(\"High Budget Movie\")\n",
        "                    else:\n",
        "                        li.append(\"Low Budget Movie\")\n",
        "            return li\n",
        "\n",
        "n=int(input())\n",
        "l=[]\n",
        "for j in range(n):\n",
        "    name=input()\n",
        "    c=input()\n",
        "    g=input()\n",
        "    b=int(input())\n",
        "    l.append(Movie(name,c,g,b))\n",
        "\n",
        "obj=solution()\n",
        "sg=input()\n",
        "res=obj.getMovieByGenre(sg,l)\n",
        "for k in res:\n",
        "    print(k)"
      ],
      "execution_count": null,
      "outputs": []
    },
    {
      "cell_type": "markdown",
      "metadata": {
        "id": "03-c4WQpTvRx"
      },
      "source": [
        "Create a class Painting with the below attributes:\n",
        "\n",
        "paintingID: string type\n",
        "painterName: string type\n",
        "paintingPrice: int type\n",
        "painting type: string type\n",
        "create constructor (__init__ method) which takes all the above attributes in the same sequence.\n",
        "Method will set the values passed as an argument to the attributes of the Painting object created.\n",
        "Create a class ShowRoom with the attribute as a list of paintings obtained from the main function.\n",
        "paintingList: of type List of Painting objects.\n",
        "Define two methods inside ShowRoom class.\n",
        "getTotalPaintingPrice: It takes a string representing the painting type as argument, and returns the total painting price of the paintings of the given type from the paintingList of the ShowRoom. If no paintings of the given type is present in the list then the method returns None.\n",
        "getPainterWithMaxCountOfPaintings: It finds the name of the painter from the paintingList of the ShowRoom who has the highest count of Paintings. If more than one painter has the highest count of paintings, the method returns the name of the painter whose name comes first as per the alphabetical orders(A-Z).\n",
        "\n",
        "Instructions to write the main function:\n",
        "a. You would require to write the main section completely. Hence please follow the below instructions for the same.\n",
        "b. You would require to write the main program which is inline to the “sample input description section” mentioned below and to read the data in the same sequence.\n",
        "c. Create the respective objects(Painting and ShowRoom) with the given sequence of arguments to fulfill the __init__ method as mentioned in requirements, defined to the respective classes referring to the below instructions.\n",
        "\n",
        "i) Create a list of Painting objects which will be passes as argument while calling the functions in main. To create the list,\n",
        "a. Read a number for the count of Painting objects to be created and added to the list.\n",
        "b. Create a Painting object after reading the data related to it and add the objects to the list to be created. This points repeats for the number of Paintings object to be created(considered in the first line of input) as per point #c.i.a\n",
        "ii) Create the ShowRoom object by passing the list created in point #c.i\n",
        "d. Read a value for painting type to be passed as argument to the method getTotalPaintingPrice.\n",
        "e. Call the method getTotalPaintingPrice by passing the value read in point #d.\n",
        "f. Call the method getPainterWithMaxCountOfPaintings.\n",
        "g. Display the value returned by the method getTotalPaintingPrice. If function return None,Then display “Painting not found”(excluding the quotes).\n",
        "h. Display the value returned by the method getPainterWithMaxCountOfPaintings.\n",
        "You can use/refer the below-given sample input and output for more details of the format for input and output.\n",
        "Sample Input description:\n",
        "a) First line represents the integer value which represents the number of Painting objects.\n",
        "b) Next lines of input represents one Painting specific data as below one by one in each line.\n",
        "\n",
        "paintingId\n",
        "paintingName\n",
        "paintingPrice\n",
        "paintingType\n",
        "c) The points #b repeats for the number of objects mentioned in the point #a.\n",
        "d) The last line of input is the painting type to be passed as argument to the method getTotalPaintingPrice.\n",
        "\n",
        "Consider Case Insensitive for this problem statement.\n",
        "Consider below sample input and output to verify your implementations:\n",
        "Sample test case 1 : input:\n",
        "\n",
        "5\n",
        "101\n",
        "Raman\n",
        "50000\n",
        "portrait\n",
        "102\n",
        "kamaal\n",
        "30000\n",
        "portrait\n",
        "103\n",
        "Raman\n",
        "25600\n",
        "modern\n",
        "104\n",
        "sumiran\n",
        "31000\n",
        "landscape\n",
        "105\n",
        "sumiran\n",
        "50000\n",
        "Modern\n",
        "Modern\n",
        "Sample test case 1: output:\n",
        "\n",
        "75600\n",
        "raman\n",
        "Sample test case 2 : input:\n",
        "\n",
        "5\n",
        "101\n",
        "Raman\n",
        "50000\n",
        "portrait\n",
        "102\n",
        "kamaal\n",
        "30000\n",
        "portrait\n",
        "103\n",
        "ankit\n",
        "25600\n",
        "modern\n",
        "104\n",
        "sumiran\n",
        "31000\n",
        "landscape\n",
        "105\n",
        "sumiran\n",
        "50000\n",
        "Modern\n",
        "portrait\n",
        "Sample test case 2 : output:\n",
        "\n",
        "80000\n",
        "sumiran"
      ]
    },
    {
      "cell_type": "code",
      "metadata": {
        "id": "xbhmD5kAGTWf"
      },
      "source": [
        "class Painting:\n",
        "    def __init__(self,pid,pname,pp,pt):\n",
        "        self.pid=pid\n",
        "        self.pname=pname\n",
        "        self.pp=pp\n",
        "        self.pt=pt\n",
        "    \n",
        "class showroom:\n",
        "    def __init__(self,p_obj):\n",
        "        self.p_obj=p_obj\n",
        "        \n",
        "    def getTotalPaintingPrice(self,p_type):\n",
        "        cost=0\n",
        "        for i in self.p_obj:\n",
        "            if i.pt==p_type:\n",
        "                cost=cost+i.pp\n",
        "        return cost\n",
        "        return None\n",
        "        \n",
        "    def getPainterWithMaxCountofPaintings(self):\n",
        "        li=[]\n",
        "        for j in self.p_obj:\n",
        "            li.append(j.pname)\n",
        "        return max(li,key=li.count)\n",
        "\n",
        "n=int(input())\n",
        "li1=[]\n",
        "for k in range(n):\n",
        "    id1=int(input())\n",
        "    name=input()\n",
        "    price=int(input())\n",
        "    type1=input()\n",
        "    li1.append(Painting(id1,name,price,type1))\n",
        "\n",
        "type2=input()\n",
        "obj=showroom(li1)\n",
        "res=obj.getTotalPaintingPrice(type2)\n",
        "if res==None:\n",
        "    print(\"Painting not found\")\n",
        "else:\n",
        "    print(res)\n",
        "res2=obj.getPainterWithMaxCountofPaintings()\n",
        "print(res2)"
      ],
      "execution_count": null,
      "outputs": []
    },
    {
      "cell_type": "code",
      "metadata": {
        "id": "rHl8eP2KGTTU"
      },
      "source": [
        "class Property:\n",
        "  def __init__(self,p_type,p_value,max_bprice):\n",
        "    self.p_type=p_type\n",
        "    self.p_value=p_value\n",
        "    self.max_bprice=max_bprice\n",
        "\n",
        "class Tender:\n",
        "  def __init__(self,bname,p_type1,bprice):\n",
        "    self.bname=bname\n",
        "    self.p_type1=p_type1\n",
        "    self.bprice=bprice\n",
        "\n",
        "def bidproperty(p_obj,t_obj):\n",
        "  d={}\n",
        "  li1=[]\n",
        "  li4=[]\n",
        "  for i in p_obj:\n",
        "    for j in t_obj:\n",
        "      if i.p_type.lower()==j.p_type1.lower():\n",
        "          if j.bprice>=i.p_value and j.bprice<=i.max_bprice:\n",
        "            d[j.bname]=j.bprice\n",
        "            li1.append(j.p_type1.lower())\n",
        "  d=sorted(d.items(),reverse=True)\n",
        "  li4.append(d[2][0])\n",
        "  for c in p_obj:\n",
        "      if c.p_type.lower() not in li1[0]:\n",
        "        li4.append(c.p_type)\n",
        "  return li4\n",
        "\n",
        "li2=[]\n",
        "li3=[]\n",
        "n=int(input()) \n",
        "for k in range(n):\n",
        "  name=input()\n",
        "  pv=int(input())\n",
        "  mv=int(input())\n",
        "  li2.append(Property(name,pv,mv))\n",
        "l=int(input())\n",
        "for m in range(l):\n",
        "  name1=input()\n",
        "  pt=input()\n",
        "  price=int(input())\n",
        "  li3.append(Tender(name1,pt,price))\n",
        "\n",
        "res=bidproperty(li2,li3)\n",
        "print(res)\n",
        "\n"
      ],
      "execution_count": null,
      "outputs": []
    },
    {
      "cell_type": "code",
      "metadata": {
        "id": "TdHPrPuVVFYi"
      },
      "source": [
        "class Donor:\n",
        "    def __init__(self,id1,name,contact,bg,prev,away):\n",
        "        self.id1=id1\n",
        "        self.name=name\n",
        "        self.contact=contact\n",
        "        self.bg=bg\n",
        "        self.prev=prev\n",
        "        self.away=away\n",
        "\n",
        "class BloodBank:\n",
        "    def __init__(self,donor_obj):\n",
        "        self.donor_obj=donor_obj\n",
        "    \n",
        "    def getListofAvailableDonors(self):\n",
        "        li=[]\n",
        "        d={'A-Positive': 0, 'AB-Negative': 0, 'B-Positive': 0, 'O-Positive': 0}\n",
        "        for i in self.donor_obj:\n",
        "            if i.away<=50:\n",
        "              li.append(i.bg)\n",
        "        for k in d:\n",
        "            for item in li:\n",
        "                if k==item:\n",
        "                  d[k]=d.get(item, 0)+1\n",
        "        return d\n",
        "    \n",
        "    def getAndUpdateDonor(self,name31,nq1):\n",
        "        d=self.getListofAvailableDonors()\n",
        "        for k2 in d:\n",
        "            if k2==name31:\n",
        "              if d[k2]>=nq1:\n",
        "                 return True\n",
        "        return None\n",
        "        \n",
        "        \n",
        "        \n",
        "        \n",
        "n=int(input())\n",
        "li=[]\n",
        "for j in range(n):\n",
        "    id12=int(input())\n",
        "    name=input()\n",
        "    cn=int(input())\n",
        "    b=input()\n",
        "    prev=input()\n",
        "    aw=int(input())\n",
        "    li.append(Donor(id12,name,cn,b,prev,aw))\n",
        "name3=input()\n",
        "nq=int(input())\n",
        "\n",
        "res=BloodBank(li)\n",
        "\n",
        "res1=res.getListofAvailableDonors()\n",
        "for k1 in res1:\n",
        "    print(k1, res1[k1])\n",
        "    \n",
        "res2=res.getAndUpdateDonor(name3,nq)\n",
        "if res2!=None:\n",
        "    print(\"Donor count available\")\n",
        "    for k2 in res1:\n",
        "            if k2==name3:\n",
        "              if res1[k2]>=nq:\n",
        "                res1[k2]=res1[k2]-nq\n",
        "    for k1 in res1:\n",
        "      print(k1, res1[k1])\n",
        "else:\n",
        "    print(\"Donor count not available\")\n",
        "\n",
        "\n",
        "\n",
        "    \n"
      ],
      "execution_count": null,
      "outputs": []
    },
    {
      "cell_type": "markdown",
      "metadata": {
        "id": "2wMKHiS6NFWP"
      },
      "source": [
        "Question 1 :\n",
        "Define a function as given below.\n",
        "\n",
        "countVowels: This function will take as input a string and find the frequency of occurrence each vowel in the string and return as a dictionary having :frequency of occurrence as the key:value pair . In case no vowels found in the input string , return None.\n",
        "\n",
        "Note:\n",
        "1. The search should be case insensitive. That is O and o will be considered as o.\n",
        "2. In the dictionary , vowels should be considered in the lower case.\n",
        "\n",
        "Define the main section for the following:\n",
        "\n",
        "1. Read a string to be passed as argument to the method countVowels\n",
        "\n",
        "2. Call the function countVowels by passing the string read in point #1 as argument.\n",
        "\n",
        "3. Print the dictionary returned by the function countVowels . If the function returns None , print “ No vowels found.” Excluding the quotes.\n",
        "\n",
        "\n",
        "\n",
        "You can use/refer to the below sample input and output to verify your solution using Test against Custom input option.\n",
        "Check the sample input and output below.\n",
        "\n",
        "Sample Input 1:\n",
        "For example, if the input string is “Good Morning All “, then the input should be read/given as follows:\n",
        "Good Morning All\n",
        "\n",
        "And the output for the above set of input will be:\n",
        "\n",
        "{'o': 3, 'i': 1, 'a': 1}\n",
        "\n",
        "Sample Input 2:   \n",
        "SWQRTY PLKJHG\n",
        "\n",
        "And the output for the above set of input will be\n",
        "\n",
        "No vowels found."
      ]
    },
    {
      "cell_type": "code",
      "metadata": {
        "id": "By90RtG7NHLO"
      },
      "source": [
        "def countVowels(s):\n",
        "    v=['a','e','i','o','u']\n",
        "    d={}\n",
        "    for i in v:\n",
        "        c=0\n",
        "        for j in range(len(s)):\n",
        "            if s[j]!=' ':\n",
        "              if i==s[j].lower():\n",
        "                 c=c+1 \n",
        "                 d[i]=c\n",
        "    return d\n",
        "    \n",
        "\n",
        "n=input()\n",
        "res=countVowels(n)\n",
        "if res:\n",
        "    print(res)\n",
        "else:\n",
        "    print(\"No vowels found.\")"
      ],
      "execution_count": null,
      "outputs": []
    },
    {
      "cell_type": "code",
      "metadata": {
        "id": "xthqC-NcNHni",
        "colab": {
          "base_uri": "https://localhost:8080/"
        },
        "outputId": "8b417e7f-f449-40e8-80c8-444197d57cc4"
      },
      "source": [
        "x = (1, 2, 3)\n",
        "s = set(x)\n",
        "\n",
        "s"
      ],
      "execution_count": 2,
      "outputs": [
        {
          "output_type": "execute_result",
          "data": {
            "text/plain": [
              "{1, 2, 3}"
            ]
          },
          "metadata": {},
          "execution_count": 2
        }
      ]
    },
    {
      "cell_type": "code",
      "metadata": {
        "id": "14ic7MDmNHkQ"
      },
      "source": [
        ""
      ],
      "execution_count": null,
      "outputs": []
    },
    {
      "cell_type": "code",
      "metadata": {
        "id": "bgun6MD9NHhu"
      },
      "source": [
        ""
      ],
      "execution_count": null,
      "outputs": []
    }
  ]
}